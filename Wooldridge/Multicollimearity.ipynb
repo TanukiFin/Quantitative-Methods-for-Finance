{
 "cells": [
  {
   "cell_type": "markdown",
   "metadata": {},
   "source": [
    "# ch3 - c11\n",
    "使用 meapsingle 中的數據研究**單親家庭對學生數學成績的影響**。 這些數據適用於 2000 年密西根州東南部的部分學校。\n",
    "\n",
    "* math4：四年級數學成績及格率\n",
    "\n",
    "* free：有免費午餐資格的百分比\n",
    "\n",
    "* pctsgle：非已婚夫妻家庭中兒童的百分比\n",
    "\n",
    "* lmedinc：家庭收入中位數的對數（以美元為單位）"
   ]
  },
  {
   "cell_type": "code",
   "execution_count": 1,
   "metadata": {},
   "outputs": [],
   "source": [
    "import pandas as pd\n",
    "import numpy as np\n",
    "import statsmodels.api as sm\n",
    "import wooldridge\n",
    "df = wooldridge.data(\"meapsingle\")"
   ]
  },
  {
   "cell_type": "markdown",
   "metadata": {},
   "source": [
    "**(i) 執行數學成績（math4）對單親家庭比例（pctsgle）的簡單回歸，並按通常的格式報告結果。解釋斜率係數。單親家庭的效應是大還是小？**\n",
    "\n",
    "$$\\widehat{math4} = \\widehat{\\beta_{0}} + \\widehat{\\beta_{1}} \\space pctsgle$$"
   ]
  },
  {
   "cell_type": "code",
   "execution_count": 2,
   "metadata": {},
   "outputs": [
    {
     "name": "stdout",
     "output_type": "stream",
     "text": [
      "                            OLS Regression Results                            \n",
      "==============================================================================\n",
      "Dep. Variable:                  math4   R-squared:                       0.380\n",
      "Model:                            OLS   Adj. R-squared:                  0.377\n",
      "Method:                 Least Squares   F-statistic:                     138.9\n",
      "Date:                Sun, 15 Oct 2023   Prob (F-statistic):           2.54e-25\n",
      "Time:                        18:35:21   Log-Likelihood:                -901.95\n",
      "No. Observations:                 229   AIC:                             1808.\n",
      "Df Residuals:                     227   BIC:                             1815.\n",
      "Df Model:                           1                                         \n",
      "Covariance Type:            nonrobust                                         \n",
      "==============================================================================\n",
      "                 coef    std err          t      P>|t|      [0.025      0.975]\n",
      "------------------------------------------------------------------------------\n",
      "const         96.7704      1.597     60.603      0.000      93.624      99.917\n",
      "pctsgle       -0.8329      0.071    -11.784      0.000      -0.972      -0.694\n",
      "==============================================================================\n",
      "Omnibus:                        8.632   Durbin-Watson:                   1.621\n",
      "Prob(Omnibus):                  0.013   Jarque-Bera (JB):               13.624\n",
      "Skew:                          -0.190   Prob(JB):                      0.00110\n",
      "Kurtosis:                       4.133   Cond. No.                         43.8\n",
      "==============================================================================\n",
      "\n",
      "Notes:\n",
      "[1] Standard Errors assume that the covariance matrix of the errors is correctly specified.\n"
     ]
    }
   ],
   "source": [
    "# Y: math4 \n",
    "# X: pctsgle\n",
    "model=sm.OLS(df[\"math4\"], sm.add_constant(df[\"pctsgle\"])).fit()\n",
    "print(model.summary())"
   ]
  },
  {
   "cell_type": "markdown",
   "metadata": {},
   "source": [
    "    Ans.\n",
    "    pctsgle 係數為-0.8329，單親家庭對數學成績(math4)有負面影響。但影響似乎很小，如果 pctsgle 增加 10%，則math4百分比預計會降低 0.08329%，這是一個很小的影響。"
   ]
  },
  {
   "cell_type": "markdown",
   "metadata": {},
   "source": [
    "**(ii) 將變數 lmedinc 和 free 加入回歸模型。 pctsgle 的係數會發生什麼變化？ 解釋發生了什麼事。**"
   ]
  },
  {
   "cell_type": "code",
   "execution_count": 18,
   "metadata": {},
   "outputs": [
    {
     "name": "stdout",
     "output_type": "stream",
     "text": [
      "                            OLS Regression Results                            \n",
      "==============================================================================\n",
      "Dep. Variable:                  math4   R-squared:                       0.460\n",
      "Model:                            OLS   Adj. R-squared:                  0.453\n",
      "Method:                 Least Squares   F-statistic:                     63.85\n",
      "Date:                Sun, 15 Oct 2023   Prob (F-statistic):           6.63e-30\n",
      "Time:                        00:19:05   Log-Likelihood:                -886.08\n",
      "No. Observations:                 229   AIC:                             1780.\n",
      "Df Residuals:                     225   BIC:                             1794.\n",
      "Df Model:                           3                                         \n",
      "Covariance Type:            nonrobust                                         \n",
      "==============================================================================\n",
      "                 coef    std err          t      P>|t|      [0.025      0.975]\n",
      "------------------------------------------------------------------------------\n",
      "const         51.7232     58.478      0.884      0.377     -63.512     166.958\n",
      "pctsgle       -0.1996      0.159     -1.258      0.210      -0.512       0.113\n",
      "free          -0.3964      0.070     -5.635      0.000      -0.535      -0.258\n",
      "lmedinc        3.5601      5.042      0.706      0.481      -6.375      13.495\n",
      "==============================================================================\n",
      "Omnibus:                        8.076   Durbin-Watson:                   1.533\n",
      "Prob(Omnibus):                  0.018   Jarque-Bera (JB):               13.783\n",
      "Skew:                           0.111   Prob(JB):                      0.00102\n",
      "Kurtosis:                       4.181   Cond. No.                     2.64e+03\n",
      "==============================================================================\n",
      "\n",
      "Notes:\n",
      "[1] Standard Errors assume that the covariance matrix of the errors is correctly specified.\n",
      "[2] The condition number is large, 2.64e+03. This might indicate that there are\n",
      "strong multicollinearity or other numerical problems.\n"
     ]
    }
   ],
   "source": [
    "import statsmodels.api as sm\n",
    "# Y: math4 \n",
    "# X: pctsgle, free, lmedinc\n",
    "X = df[[\"pctsgle\",\"free\",\"lmedinc\"]]\n",
    "model_2 = sm.OLS(df[\"math4\"], sm.add_constant( X )).fit()\n",
    "print(model_2.summary())"
   ]
  },
  {
   "cell_type": "markdown",
   "metadata": {},
   "source": [
    "    Ans. \n",
    "    Pctsgle係數減少，最下面一行產生共線性的警語"
   ]
  },
  {
   "cell_type": "markdown",
   "metadata": {},
   "source": [
    "**(iii) 求 lmedinc 和 free 之間的樣本相關性。它是否具有你預期的符號?**"
   ]
  },
  {
   "cell_type": "code",
   "execution_count": 3,
   "metadata": {},
   "outputs": [
    {
     "data": {
      "text/html": [
       "<div>\n",
       "<style scoped>\n",
       "    .dataframe tbody tr th:only-of-type {\n",
       "        vertical-align: middle;\n",
       "    }\n",
       "\n",
       "    .dataframe tbody tr th {\n",
       "        vertical-align: top;\n",
       "    }\n",
       "\n",
       "    .dataframe thead th {\n",
       "        text-align: right;\n",
       "    }\n",
       "</style>\n",
       "<table border=\"1\" class=\"dataframe\">\n",
       "  <thead>\n",
       "    <tr style=\"text-align: right;\">\n",
       "      <th></th>\n",
       "      <th>pctsgle</th>\n",
       "      <th>free</th>\n",
       "      <th>lmedinc</th>\n",
       "    </tr>\n",
       "  </thead>\n",
       "  <tbody>\n",
       "    <tr>\n",
       "      <th>pctsgle</th>\n",
       "      <td>1.000000</td>\n",
       "      <td>0.826357</td>\n",
       "      <td>-0.868636</td>\n",
       "    </tr>\n",
       "    <tr>\n",
       "      <th>free</th>\n",
       "      <td>0.826357</td>\n",
       "      <td>1.000000</td>\n",
       "      <td>-0.746970</td>\n",
       "    </tr>\n",
       "    <tr>\n",
       "      <th>lmedinc</th>\n",
       "      <td>-0.868636</td>\n",
       "      <td>-0.746970</td>\n",
       "      <td>1.000000</td>\n",
       "    </tr>\n",
       "  </tbody>\n",
       "</table>\n",
       "</div>"
      ],
      "text/plain": [
       "          pctsgle      free   lmedinc\n",
       "pctsgle  1.000000  0.826357 -0.868636\n",
       "free     0.826357  1.000000 -0.746970\n",
       "lmedinc -0.868636 -0.746970  1.000000"
      ]
     },
     "execution_count": 3,
     "metadata": {},
     "output_type": "execute_result"
    }
   ],
   "source": [
    "df[[\"pctsgle\",\"free\",\"lmedinc\"]].corr()"
   ]
  },
  {
   "cell_type": "markdown",
   "metadata": {},
   "source": [
    "    Ans.\n",
    "    lmedinc 和 free 之間的樣本相關性為 -0.74，這是預期的關係，因為隨著收入中位數的增加，免費午餐的資格就會減少。"
   ]
  },
  {
   "cell_type": "markdown",
   "metadata": {},
   "source": [
    "**(iv) lmedinc 和 free 相關係數大，是否因此需要刪除變數。**"
   ]
  },
  {
   "cell_type": "markdown",
   "metadata": {},
   "source": [
    "    Ans.\n",
    "    不，因為 lmedinc 和 free 變數之間的高相關性，不會使單親家庭對學生表現的因果效應的確定更加困難。"
   ]
  },
  {
   "cell_type": "markdown",
   "metadata": {},
   "source": [
    "**(v) 找出第 (ii) 部分迴歸中出現的每個解釋變數的變異數膨脹因子 (VIF)。 哪個變數的 VIF 最大？這個信息是否影響你用來研究單親家庭對數學表現的因果效應的模型？**\n",
    "\n",
    "$$  \n",
    "\\begin{cases} \n",
    "\\begin{aligned}\n",
    "\\widehat{pctsgle} &= \\widehat{a_{0}} + \\widehat{a_{1}} \\space free \\space \\space + \\widehat{a_{2}} \\space lmedinc, \\space {R^2}_1\n",
    " \\\\ \\widehat{free} &= \\widehat{b_{0}} + \\widehat{b_{1}} \\space pctsgle + \\widehat{b_{2}} \\space lmedinc, \\space {R^2}_2\n",
    " \\\\ \\widehat{lmedinc} &= \\widehat{c_{0}} + \\widehat{c_{1}} \\space pctsgle+ \\widehat{c_{2}} \\space free, \\space {R^2}_3\n",
    "\\end{aligned}\n",
    "\\end{cases} \n",
    "$$"
   ]
  },
  {
   "cell_type": "code",
   "execution_count": 8,
   "metadata": {},
   "outputs": [
    {
     "data": {
      "text/html": [
       "<div>\n",
       "<style scoped>\n",
       "    .dataframe tbody tr th:only-of-type {\n",
       "        vertical-align: middle;\n",
       "    }\n",
       "\n",
       "    .dataframe tbody tr th {\n",
       "        vertical-align: top;\n",
       "    }\n",
       "\n",
       "    .dataframe thead th {\n",
       "        text-align: right;\n",
       "    }\n",
       "</style>\n",
       "<table border=\"1\" class=\"dataframe\">\n",
       "  <thead>\n",
       "    <tr style=\"text-align: right;\">\n",
       "      <th></th>\n",
       "      <th>R2</th>\n",
       "      <th>VIF</th>\n",
       "      <th>Tolerance</th>\n",
       "    </tr>\n",
       "  </thead>\n",
       "  <tbody>\n",
       "    <tr>\n",
       "      <th>pctsgle</th>\n",
       "      <td>0.825814</td>\n",
       "      <td>5.740981</td>\n",
       "      <td>0.174186</td>\n",
       "    </tr>\n",
       "    <tr>\n",
       "      <th>free</th>\n",
       "      <td>0.686332</td>\n",
       "      <td>3.188079</td>\n",
       "      <td>0.313668</td>\n",
       "    </tr>\n",
       "    <tr>\n",
       "      <th>lmedinc</th>\n",
       "      <td>0.757212</td>\n",
       "      <td>4.118812</td>\n",
       "      <td>0.242788</td>\n",
       "    </tr>\n",
       "  </tbody>\n",
       "</table>\n",
       "</div>"
      ],
      "text/plain": [
       "               R2       VIF Tolerance\n",
       "pctsgle  0.825814  5.740981  0.174186\n",
       "free     0.686332  3.188079  0.313668\n",
       "lmedinc  0.757212  4.118812  0.242788"
      ]
     },
     "execution_count": 8,
     "metadata": {},
     "output_type": "execute_result"
    }
   ],
   "source": [
    "# 輔助模型: X 變數輪流當 Y 跑回歸模型\n",
    "# \"pctsgle\",\"free\",\"lmedinc\"\n",
    "features = [\"pctsgle\",\"free\",\"lmedinc\"]\n",
    "dfvif = pd.DataFrame(index=features, columns=[\"R2\",\"VIF\",\"Tolerance\"])\n",
    "for col in features:\n",
    "    Y = df[col]\n",
    "    X = df[[\"pctsgle\",\"free\",\"lmedinc\"]].drop(col, axis=1)\n",
    "    model = sm.OLS(Y, sm.add_constant( X )).fit()\n",
    "    r2 = model.rsquared\n",
    "    dfvif.loc[col] = [r2, 1/(1 - r2), 1 - r2]\n",
    "dfvif"
   ]
  },
  {
   "cell_type": "markdown",
   "metadata": {},
   "source": [
    "    通過比較這三個變數，很明顯，\"pctsgle\" 這個變數具有最高VIF(5.74)。\n",
    "    一般來說，一個常見的閾值是VIF大於10或者5。如果某個變數的VIF超過這個閾值，這可能表明共線性問題。但值得注意的是，這只是一個指導，而不是固定的規則。"
   ]
  }
 ],
 "metadata": {
  "kernelspec": {
   "display_name": "Python 3",
   "language": "python",
   "name": "python3"
  },
  "language_info": {
   "codemirror_mode": {
    "name": "ipython",
    "version": 3
   },
   "file_extension": ".py",
   "mimetype": "text/x-python",
   "name": "python",
   "nbconvert_exporter": "python",
   "pygments_lexer": "ipython3",
   "version": "3.9.16"
  }
 },
 "nbformat": 4,
 "nbformat_minor": 4
}
