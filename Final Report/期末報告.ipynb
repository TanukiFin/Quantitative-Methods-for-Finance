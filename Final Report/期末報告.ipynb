{
 "cells": [
  {
   "cell_type": "markdown",
   "id": "8c90801c",
   "metadata": {},
   "source": [
    "    6/25 請每位同學利用實際金融商品資料(由同學決定商品)，擇一跑ARMA模型或共整合模型，當作期末報告，需將過程與結果詳加描述\n",
    "          請上傳繳交PDF檔、程式檔、資料檔\n",
    "          p.s若寫ARMA主題同學，並須將整個建構ARMA過程完整說明，並詳述此模型預測能力好不好?\n",
    "             若寫共整合主題的同學，並須將整個建構共整合過程完整說明，並詳述共整合關係、誤差修正項與下期走勢的關係。"
   ]
  },
  {
   "cell_type": "markdown",
   "id": "9f35ed99",
   "metadata": {},
   "source": [
    "    第三個環境"
   ]
  },
  {
   "cell_type": "markdown",
   "id": "55acdfbf",
   "metadata": {},
   "source": [
    "# ARMA模型"
   ]
  },
  {
   "cell_type": "code",
   "execution_count": 242,
   "id": "5df4cabc",
   "metadata": {},
   "outputs": [],
   "source": [
    "#呼叫套件\n",
    "import math\n",
    "from matplotlib.font_manager import FontProperties\n",
    "import numpy as np\n",
    "import pandas as pd\n",
    "import xlrd\n",
    "import pandas_datareader as pdr\n",
    "import yfinance as yf\n",
    "\n",
    "from arch.unitroot import ADF, KPSS        # python=3.7以上\n",
    "from statsmodels.tsa import stattools\n",
    "from statsmodels.graphics.tsaplots import *\n",
    "import matplotlib.pyplot as plt\n",
    "import statsmodels.api as sm\n",
    "from statsmodels.tsa import arima_model\n",
    "import statsmodels.stats.stattools as smss\n",
    "\n",
    "np.set_printoptions(suppress=True) #不要科學記號\n",
    "pd.set_option('display.float_format',lambda x : '%.4f' % x)\n",
    "pd.set_option('display.max_rows', 10)  "
   ]
  },
  {
   "cell_type": "markdown",
   "id": "7abcc028",
   "metadata": {},
   "source": [
    "    樣本標的 : 0052 富邦科技 ETF\n",
    "    樣本區間 : 2020/06/10 ~ 2021/06/11，共 246 天\n",
    "    資料來源 : CMONEY 日收盤表排行"
   ]
  },
  {
   "cell_type": "code",
   "execution_count": 243,
   "id": "8645daba",
   "metadata": {},
   "outputs": [
    {
     "data": {
      "text/html": [
       "<div>\n",
       "<style scoped>\n",
       "    .dataframe tbody tr th:only-of-type {\n",
       "        vertical-align: middle;\n",
       "    }\n",
       "\n",
       "    .dataframe tbody tr th {\n",
       "        vertical-align: top;\n",
       "    }\n",
       "\n",
       "    .dataframe thead th {\n",
       "        text-align: right;\n",
       "    }\n",
       "</style>\n",
       "<table border=\"1\" class=\"dataframe\">\n",
       "  <thead>\n",
       "    <tr style=\"text-align: right;\">\n",
       "      <th></th>\n",
       "      <th>日期</th>\n",
       "      <th>收盤價</th>\n",
       "    </tr>\n",
       "  </thead>\n",
       "  <tbody>\n",
       "    <tr>\n",
       "      <th>0</th>\n",
       "      <td>2020-06-10</td>\n",
       "      <td>68.6900</td>\n",
       "    </tr>\n",
       "    <tr>\n",
       "      <th>1</th>\n",
       "      <td>2020-06-11</td>\n",
       "      <td>68.0000</td>\n",
       "    </tr>\n",
       "    <tr>\n",
       "      <th>2</th>\n",
       "      <td>2020-06-12</td>\n",
       "      <td>67.5500</td>\n",
       "    </tr>\n",
       "  </tbody>\n",
       "</table>\n",
       "</div>"
      ],
      "text/plain": [
       "          日期     收盤價\n",
       "0 2020-06-10 68.6900\n",
       "1 2020-06-11 68.0000\n",
       "2 2020-06-12 67.5500"
      ]
     },
     "execution_count": 243,
     "metadata": {},
     "output_type": "execute_result"
    }
   ],
   "source": [
    "df = pd.read_csv(\"富邦科技.csv\")\n",
    "df[\"日期\"] = pd.to_datetime(df[\"日期\"])    #轉換字元為日期時間型別\n",
    "df.sort_values(\"日期\", inplace=True)      #用時間先後序列排序資料\n",
    "df = df.reset_index(drop=True)\n",
    "\n",
    "df = df[['日期','收盤價']]\n",
    "df.head(3)"
   ]
  },
  {
   "cell_type": "markdown",
   "id": "b495faa2",
   "metadata": {},
   "source": [
    "## Step 1 : Data Identification"
   ]
  },
  {
   "cell_type": "markdown",
   "id": "d0ab2b21",
   "metadata": {},
   "source": [
    "### 1. 單根檢定 Unit root test 並差分"
   ]
  },
  {
   "cell_type": "code",
   "execution_count": 244,
   "id": "4f5f6a69",
   "metadata": {},
   "outputs": [],
   "source": [
    "from arch.unitroot import PhillipsPerron\n",
    "def Unit_root_test(df):\n",
    "    print( ADF(df ,max_lags=10).summary().as_text() ) # ADF test\n",
    "    print( PhillipsPerron(df).summary().as_text() )  # PP test\n",
    "    print( KPSS(df).summary().as_text() ) # KPSS test"
   ]
  },
  {
   "cell_type": "code",
   "execution_count": 245,
   "id": "a42036c8",
   "metadata": {
    "scrolled": false
   },
   "outputs": [
    {
     "name": "stdout",
     "output_type": "stream",
     "text": [
      "   Augmented Dickey-Fuller Results   \n",
      "=====================================\n",
      "Test Statistic                 -1.587\n",
      "P-value                         0.490\n",
      "Lags                                1\n",
      "-------------------------------------\n",
      "\n",
      "Trend: Constant\n",
      "Critical Values: -3.46 (1%), -2.87 (5%), -2.57 (10%)\n",
      "Null Hypothesis: The process contains a unit root.\n",
      "Alternative Hypothesis: The process is weakly stationary.\n",
      "     Phillips-Perron Test (Z-tau)    \n",
      "=====================================\n",
      "Test Statistic                 -1.525\n",
      "P-value                         0.521\n",
      "Lags                               16\n",
      "-------------------------------------\n",
      "\n",
      "Trend: Constant\n",
      "Critical Values: -3.46 (1%), -2.87 (5%), -2.57 (10%)\n",
      "Null Hypothesis: The process contains a unit root.\n",
      "Alternative Hypothesis: The process is weakly stationary.\n",
      "    KPSS Stationarity Test Results   \n",
      "=====================================\n",
      "Test Statistic                  2.145\n",
      "P-value                         0.000\n",
      "Lags                               10\n",
      "-------------------------------------\n",
      "\n",
      "Trend: Constant\n",
      "Critical Values: 0.74 (1%), 0.46 (5%), 0.35 (10%)\n",
      "Null Hypothesis: The process is weakly stationary.\n",
      "Alternative Hypothesis: The process contains a unit root.\n"
     ]
    }
   ],
   "source": [
    "Unit_root_test(df['收盤價'])"
   ]
  },
  {
   "cell_type": "markdown",
   "id": "2f48450a",
   "metadata": {},
   "source": [
    "    ADF test : p=0.490 > 0.05，接受H0(有單根，非定態) => 有單根\n",
    "    PP  test : p=0.521 > 0.05，接受H0(有單根，非定態) => 有單根\n",
    "    KPSS test: p=0.000 < 0.05，拒絕H0(存在弱定態)     => 有單根\n",
    "    結論: 收盤價為非定態數列，所以需要差分\n",
    "#### 一階差分"
   ]
  },
  {
   "cell_type": "code",
   "execution_count": 246,
   "id": "2edb3a90",
   "metadata": {},
   "outputs": [
    {
     "data": {
      "text/html": [
       "<div>\n",
       "<style scoped>\n",
       "    .dataframe tbody tr th:only-of-type {\n",
       "        vertical-align: middle;\n",
       "    }\n",
       "\n",
       "    .dataframe tbody tr th {\n",
       "        vertical-align: top;\n",
       "    }\n",
       "\n",
       "    .dataframe thead th {\n",
       "        text-align: right;\n",
       "    }\n",
       "</style>\n",
       "<table border=\"1\" class=\"dataframe\">\n",
       "  <thead>\n",
       "    <tr style=\"text-align: right;\">\n",
       "      <th></th>\n",
       "      <th>日期</th>\n",
       "      <th>收盤價</th>\n",
       "      <th>一階差分</th>\n",
       "    </tr>\n",
       "  </thead>\n",
       "  <tbody>\n",
       "    <tr>\n",
       "      <th>0</th>\n",
       "      <td>2020-06-10</td>\n",
       "      <td>68.6900</td>\n",
       "      <td>NaN</td>\n",
       "    </tr>\n",
       "    <tr>\n",
       "      <th>1</th>\n",
       "      <td>2020-06-11</td>\n",
       "      <td>68.0000</td>\n",
       "      <td>-0.6900</td>\n",
       "    </tr>\n",
       "    <tr>\n",
       "      <th>2</th>\n",
       "      <td>2020-06-12</td>\n",
       "      <td>67.5500</td>\n",
       "      <td>-0.4500</td>\n",
       "    </tr>\n",
       "  </tbody>\n",
       "</table>\n",
       "</div>"
      ],
      "text/plain": [
       "          日期     收盤價    一階差分\n",
       "0 2020-06-10 68.6900     NaN\n",
       "1 2020-06-11 68.0000 -0.6900\n",
       "2 2020-06-12 67.5500 -0.4500"
      ]
     },
     "execution_count": 246,
     "metadata": {},
     "output_type": "execute_result"
    }
   ],
   "source": [
    "df['一階差分'] = df['收盤價'].diff()\n",
    "df.head(3)"
   ]
  },
  {
   "cell_type": "code",
   "execution_count": 247,
   "id": "a2b90a95",
   "metadata": {},
   "outputs": [
    {
     "name": "stdout",
     "output_type": "stream",
     "text": [
      "   Augmented Dickey-Fuller Results   \n",
      "=====================================\n",
      "Test Statistic                -13.712\n",
      "P-value                         0.000\n",
      "Lags                                0\n",
      "-------------------------------------\n",
      "\n",
      "Trend: Constant\n",
      "Critical Values: -3.46 (1%), -2.87 (5%), -2.57 (10%)\n",
      "Null Hypothesis: The process contains a unit root.\n",
      "Alternative Hypothesis: The process is weakly stationary.\n",
      "     Phillips-Perron Test (Z-tau)    \n",
      "=====================================\n",
      "Test Statistic                -13.597\n",
      "P-value                         0.000\n",
      "Lags                               16\n",
      "-------------------------------------\n",
      "\n",
      "Trend: Constant\n",
      "Critical Values: -3.46 (1%), -2.87 (5%), -2.57 (10%)\n",
      "Null Hypothesis: The process contains a unit root.\n",
      "Alternative Hypothesis: The process is weakly stationary.\n",
      "    KPSS Stationarity Test Results   \n",
      "=====================================\n",
      "Test Statistic                  0.133\n",
      "P-value                         0.446\n",
      "Lags                                2\n",
      "-------------------------------------\n",
      "\n",
      "Trend: Constant\n",
      "Critical Values: 0.74 (1%), 0.46 (5%), 0.35 (10%)\n",
      "Null Hypothesis: The process is weakly stationary.\n",
      "Alternative Hypothesis: The process contains a unit root.\n"
     ]
    }
   ],
   "source": [
    "Unit_root_test(df['一階差分'].dropna())"
   ]
  },
  {
   "cell_type": "code",
   "execution_count": 248,
   "id": "86362757",
   "metadata": {},
   "outputs": [
    {
     "data": {
      "text/plain": [
       "[<matplotlib.lines.Line2D at 0x1890d4352c8>]"
      ]
     },
     "execution_count": 248,
     "metadata": {},
     "output_type": "execute_result"
    },
    {
     "data": {
      "image/png": "[encoded data removed]",
      "text/plain": [
       "<Figure size 432x288 with 1 Axes>"
      ]
     },
     "metadata": {
      "needs_background": "light"
     },
     "output_type": "display_data"
    }
   ],
   "source": [
    "fig, ax = plt.subplots()   \n",
    "ax.plot(df['日期'],df['一階差分'])"
   ]
  },
  {
   "cell_type": "markdown",
   "id": "8c7bc207",
   "metadata": {},
   "source": [
    "    ADF test : p=0.000 < 0.05，拒絕H0(有單根，非定態) => 無單根\n",
    "    PP  test : p=0.000 < 0.05，拒絕H0(有單根，非定態) => 無單根\n",
    "    KPSS test: p=0.446 > 0.05，接受H0(存在弱定態)     => 無單根\n",
    "    結論: 收盤價的一階差分為定態數列"
   ]
  },
  {
   "cell_type": "markdown",
   "id": "22b3cda4",
   "metadata": {},
   "source": [
    "### 2. 檢查是否為白噪音 Ljung-Box statistic"
   ]
  },
  {
   "cell_type": "code",
   "execution_count": 249,
   "id": "b28c3f4e",
   "metadata": {},
   "outputs": [
    {
     "data": {
      "text/plain": [
       "0.22887816913976655"
      ]
     },
     "execution_count": 249,
     "metadata": {},
     "output_type": "execute_result"
    }
   ],
   "source": [
    "# statsmodels.tsa.stattools.q_stat(x, nobs, type=None)\n",
    "# x: Array of autocorrelation coefficients. Can be obtained from acf.\n",
    "# nobs: Number of observations in the entire sample (ie., not just the length of the autocorrelation function results.\n",
    "LjungBox = stattools.q_stat(stattools.acf(df['一階差分'].dropna())[1:12],len(df['一階差分'].dropna()))\n",
    "LjungBox[1][-1]"
   ]
  },
  {
   "cell_type": "markdown",
   "id": "08caa8d6",
   "metadata": {},
   "source": [
    "## Step 2 : 模型估計"
   ]
  },
  {
   "cell_type": "markdown",
   "id": "f440fabf",
   "metadata": {},
   "source": [
    "### ACF & PACF"
   ]
  },
  {
   "cell_type": "code",
   "execution_count": 250,
   "id": "454e71f1",
   "metadata": {},
   "outputs": [
    {
     "data": {
      "image/png": "[encoded data removed]",
      "text/plain": [
       "<Figure size 1008x504 with 2 Axes>"
      ]
     },
     "metadata": {
      "needs_background": "light"
     },
     "output_type": "display_data"
    }
   ],
   "source": [
    "fig, ax = plt.subplots(2, 1, figsize=(14,7))\n",
    "axe1 = plt.subplot(121)\n",
    "axe2 = plt.subplot(122)\n",
    "ax[0] = plot_acf(df['一階差分'].dropna(), lags=30, ax=axe1)   # ACF  決定 MA 落後幾期\n",
    "ax[1] = plot_pacf(df['一階差分'].dropna(), lags=30, ax=axe2)  # PACF 決定 AR 落後幾期"
   ]
  },
  {
   "cell_type": "markdown",
   "id": "632b9f15",
   "metadata": {},
   "source": [
    "### Find the smallest AIC"
   ]
  },
  {
   "cell_type": "code",
   "execution_count": 251,
   "id": "1f14f2ff",
   "metadata": {},
   "outputs": [
    {
     "name": "stdout",
     "output_type": "stream",
     "text": [
      "                              ARMA Model Results                              \n",
      "==============================================================================\n",
      "Dep. Variable:                   一階差分   No. Observations:                  245\n",
      "Model:                     ARMA(1, 1)   Log Likelihood                -477.405\n",
      "Method:                       css-mle   S.D. of innovations              1.698\n",
      "Date:                Tue, 22 Jun 2021   AIC                            962.811\n",
      "Time:                        18:33:56   BIC                            976.816\n",
      "Sample:                             0   HQIC                           968.451\n",
      "                                                                              \n",
      "==============================================================================\n",
      "                 coef    std err          z      P>|z|      [0.025      0.975]\n",
      "------------------------------------------------------------------------------\n",
      "const          0.2307      0.119      1.935      0.053      -0.003       0.464\n",
      "ar.L1.一階差分    -0.4706      0.225     -2.095      0.036      -0.911      -0.030\n",
      "ma.L1.一階差分     0.6166      0.198      3.107      0.002       0.228       1.006\n",
      "                                    Roots                                    \n",
      "=============================================================================\n",
      "                  Real          Imaginary           Modulus         Frequency\n",
      "-----------------------------------------------------------------------------\n",
      "AR.1           -2.1251           +0.0000j            2.1251            0.5000\n",
      "MA.1           -1.6219           +0.0000j            1.6219            0.5000\n",
      "-----------------------------------------------------------------------------\n"
     ]
    }
   ],
   "source": [
    "# ARMA(1,1)\n",
    "model1 = arima_model.ARIMA(df['一階差分'].dropna(), order=(1,0,1)).fit()\n",
    "print(model1.summary())\n",
    "#Clear console 不要看到粉紅色緊語!\n",
    "import warnings\n",
    "warnings.filterwarnings(\"ignore\")"
   ]
  },
  {
   "cell_type": "code",
   "execution_count": 252,
   "id": "23875842",
   "metadata": {},
   "outputs": [],
   "source": [
    "# Try find a best ARMA model parameter\n",
    "def find_best(time_series):\n",
    "    aic = []\n",
    "    for p in range(1,6):\n",
    "        for q in range(1,6):\n",
    "            model = arima_model.ARIMA(time_series, order=(p,0,q)).fit()\n",
    "            aic.append(model.aic)\n",
    "            print(f\"AIC of model ({p},{q}): {model.aic}\")\n",
    "    print(f\"Smallest AIC model: ({aic.index(min(aic))//p+1}, {aic.index(min(aic))%p+1}) , AIC = {min(aic)}\")"
   ]
  },
  {
   "cell_type": "code",
   "execution_count": 253,
   "id": "559c491d",
   "metadata": {},
   "outputs": [
    {
     "name": "stdout",
     "output_type": "stream",
     "text": [
      "AIC of model (1,1): 962.8108519422682\n",
      "AIC of model (1,2): 964.7944962998286\n",
      "AIC of model (1,3): 966.6535500161867\n",
      "AIC of model (1,4): 967.5693314879525\n",
      "AIC of model (1,5): 968.632603477375\n",
      "AIC of model (2,1): 964.7922859285933\n",
      "AIC of model (2,2): 964.9144893252951\n",
      "AIC of model (2,3): 962.2303498623808\n",
      "AIC of model (2,4): 960.0371840257175\n",
      "AIC of model (2,5): 962.0274011103731\n",
      "AIC of model (3,1): 966.6470072393429\n",
      "AIC of model (3,2): 968.6292028604778\n",
      "AIC of model (3,3): 963.2808906015997\n",
      "AIC of model (3,4): 962.0200916000178\n",
      "AIC of model (3,5): 963.2275518906886\n",
      "AIC of model (4,1): 967.4227012975218\n",
      "AIC of model (4,2): 960.4749085367005\n",
      "AIC of model (4,3): 962.2376603663163\n",
      "AIC of model (4,4): 958.7157645788958\n",
      "AIC of model (4,5): 959.8801983786637\n",
      "AIC of model (5,1): 969.1085065918867\n",
      "AIC of model (5,2): 962.3778685101647\n",
      "AIC of model (5,3): 964.0762971895495\n",
      "AIC of model (5,4): 965.8468453374802\n",
      "AIC of model (5,5): 960.7443152607544\n",
      "Smallest AIC model: (4, 4) , AIC = 958.7157645788958\n"
     ]
    }
   ],
   "source": [
    "find_best(df['一階差分'].dropna())"
   ]
  },
  {
   "cell_type": "code",
   "execution_count": 254,
   "id": "e6a8b7d8",
   "metadata": {},
   "outputs": [
    {
     "name": "stdout",
     "output_type": "stream",
     "text": [
      "                              ARMA Model Results                              \n",
      "==============================================================================\n",
      "Dep. Variable:                   一階差分   No. Observations:                  245\n",
      "Model:                     ARMA(4, 4)   Log Likelihood                -469.358\n",
      "Method:                       css-mle   S.D. of innovations              1.615\n",
      "Date:                Tue, 22 Jun 2021   AIC                            958.716\n",
      "Time:                        18:34:21   BIC                            993.728\n",
      "Sample:                             0   HQIC                           972.815\n",
      "                                                                              \n",
      "==============================================================================\n",
      "                 coef    std err          z      P>|z|      [0.025      0.975]\n",
      "------------------------------------------------------------------------------\n",
      "const          0.2308      0.120      1.924      0.054      -0.004       0.466\n",
      "ar.L1.一階差分    -0.9116      0.063    -14.368      0.000      -1.036      -0.787\n",
      "ar.L2.一階差分    -0.1338      0.087     -1.531      0.126      -0.305       0.037\n",
      "ar.L3.一階差分    -0.8553      0.050    -17.034      0.000      -0.954      -0.757\n",
      "ar.L4.一階差分    -0.7844      0.048    -16.505      0.000      -0.878      -0.691\n",
      "ma.L1.一階差分     1.0326        nan        nan        nan         nan         nan\n",
      "ma.L2.一階差分     0.2226      0.057      3.902      0.000       0.111       0.334\n",
      "ma.L3.一階差分     1.0328        nan        nan        nan         nan         nan\n",
      "ma.L4.一階差分     0.9998        nan        nan        nan         nan         nan\n",
      "                                    Roots                                    \n",
      "=============================================================================\n",
      "                  Real          Imaginary           Modulus         Frequency\n",
      "-----------------------------------------------------------------------------\n",
      "AR.1            0.4996           -0.9259j            1.0521           -0.1712\n",
      "AR.2            0.4996           +0.9259j            1.0521            0.1712\n",
      "AR.3           -1.0448           -0.2451j            1.0732           -0.4633\n",
      "AR.4           -1.0448           +0.2451j            1.0732            0.4633\n",
      "MA.1            0.4567           -0.8897j            1.0000           -0.1745\n",
      "MA.2            0.4567           +0.8897j            1.0000            0.1745\n",
      "MA.3           -0.9732           -0.2306j            1.0001           -0.4630\n",
      "MA.4           -0.9732           +0.2306j            1.0001            0.4630\n",
      "-----------------------------------------------------------------------------\n"
     ]
    }
   ],
   "source": [
    "model_44 = arima_model.ARIMA(df['一階差分'].dropna(), order=(4,0,4)).fit()\n",
    "print(model_44.summary())"
   ]
  },
  {
   "cell_type": "markdown",
   "id": "dc7de769",
   "metadata": {},
   "source": [
    "## Step 3 : 模型診斷\n",
    "### ARMA(4,4)"
   ]
  },
  {
   "cell_type": "code",
   "execution_count": 255,
   "id": "492e9b82",
   "metadata": {},
   "outputs": [
    {
     "name": "stdout",
     "output_type": "stream",
     "text": [
      "Figure(432x288)\n"
     ]
    },
    {
     "data": {
      "image/png": "[encoded data removed]",
      "text/plain": [
       "<Figure size 432x288 with 1 Axes>"
      ]
     },
     "metadata": {
      "needs_background": "light"
     },
     "output_type": "display_data"
    },
    {
     "data": {
      "image/png": "[encoded data removed]",
      "text/plain": [
       "<Figure size 432x288 with 1 Axes>"
      ]
     },
     "metadata": {
      "needs_background": "light"
     },
     "output_type": "display_data"
    }
   ],
   "source": [
    "stdresid = model_min.resid / math.sqrt(model_44.sigma2)\n",
    "plt.plot(stdresid)\n",
    "print(plot_acf(stdresid,lags=20))"
   ]
  },
  {
   "cell_type": "code",
   "execution_count": 256,
   "id": "3620b7e3",
   "metadata": {},
   "outputs": [
    {
     "data": {
      "text/plain": [
       "0.9599261222726837"
      ]
     },
     "execution_count": 256,
     "metadata": {},
     "output_type": "execute_result"
    }
   ],
   "source": [
    "LjungBox = stattools.q_stat(stattools.acf(stdresid)[1:10],len(stdresid))\n",
    "LjungBox[1][-1]"
   ]
  },
  {
   "cell_type": "markdown",
   "id": "0818dfe5",
   "metadata": {},
   "source": [
    "## Step 4: 模型預測\n",
    "### ARMA(5,5)"
   ]
  },
  {
   "cell_type": "code",
   "execution_count": 257,
   "id": "02ab4914",
   "metadata": {},
   "outputs": [],
   "source": [
    "# 一階差分還原成股價\n",
    "def undo_diff(las_ob, arr):\n",
    "    a = []\n",
    "    for i in range(len(arr)):\n",
    "        las_ob = las_ob + arr[i]\n",
    "        a.append(las_ob)\n",
    "    return pd.DataFrame(a)"
   ]
  },
  {
   "cell_type": "code",
   "execution_count": 258,
   "id": "376e3e4c",
   "metadata": {},
   "outputs": [
    {
     "name": "stdout",
     "output_type": "stream",
     "text": [
      "[ 0.61688262  0.2734045   0.16435665 -0.2446112   0.33375478  0.22391592]\n"
     ]
    },
    {
     "data": {
      "text/html": [
       "<div>\n",
       "<style scoped>\n",
       "    .dataframe tbody tr th:only-of-type {\n",
       "        vertical-align: middle;\n",
       "    }\n",
       "\n",
       "    .dataframe tbody tr th {\n",
       "        vertical-align: top;\n",
       "    }\n",
       "\n",
       "    .dataframe thead th {\n",
       "        text-align: right;\n",
       "    }\n",
       "</style>\n",
       "<table border=\"1\" class=\"dataframe\">\n",
       "  <thead>\n",
       "    <tr style=\"text-align: right;\">\n",
       "      <th></th>\n",
       "      <th>0</th>\n",
       "    </tr>\n",
       "  </thead>\n",
       "  <tbody>\n",
       "    <tr>\n",
       "      <th>0</th>\n",
       "      <td>126.0669</td>\n",
       "    </tr>\n",
       "    <tr>\n",
       "      <th>1</th>\n",
       "      <td>126.3403</td>\n",
       "    </tr>\n",
       "    <tr>\n",
       "      <th>2</th>\n",
       "      <td>126.5046</td>\n",
       "    </tr>\n",
       "    <tr>\n",
       "      <th>3</th>\n",
       "      <td>126.2600</td>\n",
       "    </tr>\n",
       "    <tr>\n",
       "      <th>4</th>\n",
       "      <td>126.5938</td>\n",
       "    </tr>\n",
       "    <tr>\n",
       "      <th>5</th>\n",
       "      <td>126.8177</td>\n",
       "    </tr>\n",
       "  </tbody>\n",
       "</table>\n",
       "</div>"
      ],
      "text/plain": [
       "         0\n",
       "0 126.0669\n",
       "1 126.3403\n",
       "2 126.5046\n",
       "3 126.2600\n",
       "4 126.5938\n",
       "5 126.8177"
      ]
     },
     "execution_count": 258,
     "metadata": {},
     "output_type": "execute_result"
    }
   ],
   "source": [
    "# 利用ARMA(4,4) 預測未來 6 期一階差分\n",
    "print( model_44.forecast(6)[0] )\n",
    "df_pred_44 = undo_diff(df['收盤價'].loc[len(df)-1], model_44.forecast(6)[0])\n",
    "df_pred_44"
   ]
  },
  {
   "cell_type": "markdown",
   "id": "a55cbf4f",
   "metadata": {},
   "source": [
    "### ARMA(4,5) AIC倒數第二小"
   ]
  },
  {
   "cell_type": "code",
   "execution_count": 259,
   "id": "711e2b97",
   "metadata": {},
   "outputs": [
    {
     "name": "stdout",
     "output_type": "stream",
     "text": [
      "[ 0.75659032  0.35441006  0.07416857 -0.33873684  0.28022304  0.32357892]\n"
     ]
    },
    {
     "data": {
      "text/html": [
       "<div>\n",
       "<style scoped>\n",
       "    .dataframe tbody tr th:only-of-type {\n",
       "        vertical-align: middle;\n",
       "    }\n",
       "\n",
       "    .dataframe tbody tr th {\n",
       "        vertical-align: top;\n",
       "    }\n",
       "\n",
       "    .dataframe thead th {\n",
       "        text-align: right;\n",
       "    }\n",
       "</style>\n",
       "<table border=\"1\" class=\"dataframe\">\n",
       "  <thead>\n",
       "    <tr style=\"text-align: right;\">\n",
       "      <th></th>\n",
       "      <th>0</th>\n",
       "    </tr>\n",
       "  </thead>\n",
       "  <tbody>\n",
       "    <tr>\n",
       "      <th>0</th>\n",
       "      <td>126.2066</td>\n",
       "    </tr>\n",
       "    <tr>\n",
       "      <th>1</th>\n",
       "      <td>126.5610</td>\n",
       "    </tr>\n",
       "    <tr>\n",
       "      <th>2</th>\n",
       "      <td>126.6352</td>\n",
       "    </tr>\n",
       "    <tr>\n",
       "      <th>3</th>\n",
       "      <td>126.2964</td>\n",
       "    </tr>\n",
       "    <tr>\n",
       "      <th>4</th>\n",
       "      <td>126.5767</td>\n",
       "    </tr>\n",
       "    <tr>\n",
       "      <th>5</th>\n",
       "      <td>126.9002</td>\n",
       "    </tr>\n",
       "  </tbody>\n",
       "</table>\n",
       "</div>"
      ],
      "text/plain": [
       "         0\n",
       "0 126.2066\n",
       "1 126.5610\n",
       "2 126.6352\n",
       "3 126.2964\n",
       "4 126.5767\n",
       "5 126.9002"
      ]
     },
     "execution_count": 259,
     "metadata": {},
     "output_type": "execute_result"
    }
   ],
   "source": [
    "# 利用ARMA(4,5) 預測未來 6 期一階差分\n",
    "model_45 = arima_model.ARIMA(df['一階差分'].dropna(), order=(4,0,5)).fit()\n",
    "print( model_45.forecast(6)[0] )\n",
    "df_pred_45 = undo_diff(df['收盤價'].loc[len(df)-1], model_45.forecast(6)[0])\n",
    "df_pred_45"
   ]
  },
  {
   "cell_type": "code",
   "execution_count": 260,
   "id": "34239f9d",
   "metadata": {},
   "outputs": [
    {
     "data": {
      "text/html": [
       "<div>\n",
       "<style scoped>\n",
       "    .dataframe tbody tr th:only-of-type {\n",
       "        vertical-align: middle;\n",
       "    }\n",
       "\n",
       "    .dataframe tbody tr th {\n",
       "        vertical-align: top;\n",
       "    }\n",
       "\n",
       "    .dataframe thead th {\n",
       "        text-align: right;\n",
       "    }\n",
       "</style>\n",
       "<table border=\"1\" class=\"dataframe\">\n",
       "  <thead>\n",
       "    <tr style=\"text-align: right;\">\n",
       "      <th></th>\n",
       "      <th>日期</th>\n",
       "      <th>收盤價</th>\n",
       "    </tr>\n",
       "  </thead>\n",
       "  <tbody>\n",
       "    <tr>\n",
       "      <th>0</th>\n",
       "      <td>2021-06-15</td>\n",
       "      <td>126.5500</td>\n",
       "    </tr>\n",
       "    <tr>\n",
       "      <th>1</th>\n",
       "      <td>2021-06-16</td>\n",
       "      <td>126.1000</td>\n",
       "    </tr>\n",
       "    <tr>\n",
       "      <th>2</th>\n",
       "      <td>2021-06-17</td>\n",
       "      <td>126.5000</td>\n",
       "    </tr>\n",
       "    <tr>\n",
       "      <th>3</th>\n",
       "      <td>2021-06-18</td>\n",
       "      <td>126.2000</td>\n",
       "    </tr>\n",
       "    <tr>\n",
       "      <th>4</th>\n",
       "      <td>2021-06-21</td>\n",
       "      <td>122.7000</td>\n",
       "    </tr>\n",
       "    <tr>\n",
       "      <th>5</th>\n",
       "      <td>2021-06-22</td>\n",
       "      <td>122.0000</td>\n",
       "    </tr>\n",
       "  </tbody>\n",
       "</table>\n",
       "</div>"
      ],
      "text/plain": [
       "          日期      收盤價\n",
       "0 2021-06-15 126.5500\n",
       "1 2021-06-16 126.1000\n",
       "2 2021-06-17 126.5000\n",
       "3 2021-06-18 126.2000\n",
       "4 2021-06-21 122.7000\n",
       "5 2021-06-22 122.0000"
      ]
     },
     "execution_count": 260,
     "metadata": {},
     "output_type": "execute_result"
    }
   ],
   "source": [
    "df_real = pd.read_csv(\"富邦科技0615-0622.csv\")\n",
    "df_real[\"日期\"] = pd.to_datetime(df_real[\"日期\"])  #轉換字元為日期時間型別\n",
    "df_real.sort_values(\"日期\", inplace=True)          #用時間先後序列排序資料\n",
    "df_real = df_real.reset_index(drop=True)          #將日期時間擺放至列索引值\n",
    "df_real = df_real[['日期','收盤價']]\n",
    "df_real"
   ]
  },
  {
   "cell_type": "code",
   "execution_count": 261,
   "id": "dc9033ba",
   "metadata": {},
   "outputs": [
    {
     "data": {
      "text/html": [
       "<div>\n",
       "<style scoped>\n",
       "    .dataframe tbody tr th:only-of-type {\n",
       "        vertical-align: middle;\n",
       "    }\n",
       "\n",
       "    .dataframe tbody tr th {\n",
       "        vertical-align: top;\n",
       "    }\n",
       "\n",
       "    .dataframe thead th {\n",
       "        text-align: right;\n",
       "    }\n",
       "</style>\n",
       "<table border=\"1\" class=\"dataframe\">\n",
       "  <thead>\n",
       "    <tr style=\"text-align: right;\">\n",
       "      <th></th>\n",
       "      <th>日期</th>\n",
       "      <th>收盤價</th>\n",
       "      <th>ARMA(4,4)</th>\n",
       "      <th>ARMA(4,5)</th>\n",
       "    </tr>\n",
       "  </thead>\n",
       "  <tbody>\n",
       "    <tr>\n",
       "      <th>0</th>\n",
       "      <td>2021-06-15</td>\n",
       "      <td>126.5500</td>\n",
       "      <td>126.0669</td>\n",
       "      <td>126.2066</td>\n",
       "    </tr>\n",
       "    <tr>\n",
       "      <th>1</th>\n",
       "      <td>2021-06-16</td>\n",
       "      <td>126.1000</td>\n",
       "      <td>126.3403</td>\n",
       "      <td>126.5610</td>\n",
       "    </tr>\n",
       "    <tr>\n",
       "      <th>2</th>\n",
       "      <td>2021-06-17</td>\n",
       "      <td>126.5000</td>\n",
       "      <td>126.5046</td>\n",
       "      <td>126.6352</td>\n",
       "    </tr>\n",
       "    <tr>\n",
       "      <th>3</th>\n",
       "      <td>2021-06-18</td>\n",
       "      <td>126.2000</td>\n",
       "      <td>126.2600</td>\n",
       "      <td>126.2964</td>\n",
       "    </tr>\n",
       "    <tr>\n",
       "      <th>4</th>\n",
       "      <td>2021-06-21</td>\n",
       "      <td>122.7000</td>\n",
       "      <td>126.5938</td>\n",
       "      <td>126.5767</td>\n",
       "    </tr>\n",
       "    <tr>\n",
       "      <th>5</th>\n",
       "      <td>2021-06-22</td>\n",
       "      <td>122.0000</td>\n",
       "      <td>126.8177</td>\n",
       "      <td>126.9002</td>\n",
       "    </tr>\n",
       "  </tbody>\n",
       "</table>\n",
       "</div>"
      ],
      "text/plain": [
       "          日期      收盤價  ARMA(4,4)  ARMA(4,5)\n",
       "0 2021-06-15 126.5500   126.0669   126.2066\n",
       "1 2021-06-16 126.1000   126.3403   126.5610\n",
       "2 2021-06-17 126.5000   126.5046   126.6352\n",
       "3 2021-06-18 126.2000   126.2600   126.2964\n",
       "4 2021-06-21 122.7000   126.5938   126.5767\n",
       "5 2021-06-22 122.0000   126.8177   126.9002"
      ]
     },
     "execution_count": 261,
     "metadata": {},
     "output_type": "execute_result"
    }
   ],
   "source": [
    "df_compare = pd.concat([df_real, df_pred_44, df_pred_45], axis=1)\n",
    "df_compare.columns = ['日期', '收盤價', 'ARMA(4,4)', 'ARMA(4,5)']\n",
    "df_compare"
   ]
  },
  {
   "cell_type": "code",
   "execution_count": 262,
   "id": "2e54ff9a",
   "metadata": {},
   "outputs": [
    {
     "data": {
      "text/plain": [
       "<matplotlib.legend.Legend at 0x18905a106c8>"
      ]
     },
     "execution_count": 262,
     "metadata": {},
     "output_type": "execute_result"
    },
    {
     "data": {
      "image/png": "[encoded data removed]",
      "text/plain": [
       "<Figure size 1080x360 with 1 Axes>"
      ]
     },
     "metadata": {
      "needs_background": "light"
     },
     "output_type": "display_data"
    }
   ],
   "source": [
    "fig, ax = plt.subplots( figsize=(15,5))   \n",
    "ax.plot(df_compare['日期'], df_compare['收盤價'], marker='o')\n",
    "ax.plot(df_compare['日期'], df_compare['ARMA(4,4)'], marker='o')\n",
    "ax.plot(df_compare['日期'], df_compare['ARMA(4,5)'], marker='o')\n",
    "ax.set_title('Real Stock Price & ARMA(4,4), ARMA(4,5) Prediction',fontsize=18)\n",
    "ax.legend(labels = ['real price','ARMA(4,4)', 'ARMA(4,5)'])"
   ]
  },
  {
   "cell_type": "code",
   "execution_count": null,
   "id": "5ee56764",
   "metadata": {},
   "outputs": [],
   "source": []
  }
 ],
 "metadata": {
  "kernelspec": {
   "display_name": "Python 3",
   "language": "python",
   "name": "python3"
  },
  "language_info": {
   "codemirror_mode": {
    "name": "ipython",
    "version": 3
   },
   "file_extension": ".py",
   "mimetype": "text/x-python",
   "name": "python",
   "nbconvert_exporter": "python",
   "pygments_lexer": "ipython3",
   "version": "3.7.10"
  }
 },
 "nbformat": 4,
 "nbformat_minor": 5
}
