{
 "cells": [
  {
   "cell_type": "markdown",
   "metadata": {},
   "source": [
    "# c11"
   ]
  },
  {
   "cell_type": "markdown",
   "metadata": {},
   "source": [
    "使用 MEAPSINGLE 中的數據研究單親家庭對學生數學成績的影響。 這些數據適用於 2000 年密西根州東南部的部分學校。社會經濟變數是在郵遞區號層級獲得的（郵遞區號是根據學校的郵寄地址分配給學校的）。"
   ]
  },
  {
   "cell_type": "markdown",
   "metadata": {},
   "source": [
    "* math4：滿意百分比，四年級數學\n",
    "\n",
    "* free：符合條件的百分比，免費午餐\n",
    "\n",
    "* pctsgle：非已婚夫婦家庭的兒童百分比\n",
    "\n",
    "* lmedinc：日誌（medinc）"
   ]
  },
  {
   "cell_type": "code",
   "execution_count": 16,
   "metadata": {},
   "outputs": [],
   "source": [
    "import pandas as pd\n",
    "import numpy as np\n",
    "import wooldridge\n",
    "df = wooldridge.data(\"meapsingle\")"
   ]
  },
  {
   "cell_type": "markdown",
   "metadata": {},
   "source": [
    "(i) 在 pctsgle 上執行 math4 的簡單回歸並以通常的格式報告結果。 解釋斜率係數。 單親家庭的影響是大還是小？"
   ]
  },
  {
   "cell_type": "code",
   "execution_count": 17,
   "metadata": {},
   "outputs": [
    {
     "name": "stdout",
     "output_type": "stream",
     "text": [
      "                            OLS Regression Results                            \n",
      "==============================================================================\n",
      "Dep. Variable:                  math4   R-squared:                       0.380\n",
      "Model:                            OLS   Adj. R-squared:                  0.377\n",
      "Method:                 Least Squares   F-statistic:                     138.9\n",
      "Date:                Sun, 15 Oct 2023   Prob (F-statistic):           2.54e-25\n",
      "Time:                        00:16:01   Log-Likelihood:                -901.95\n",
      "No. Observations:                 229   AIC:                             1808.\n",
      "Df Residuals:                     227   BIC:                             1815.\n",
      "Df Model:                           1                                         \n",
      "Covariance Type:            nonrobust                                         \n",
      "==============================================================================\n",
      "                 coef    std err          t      P>|t|      [0.025      0.975]\n",
      "------------------------------------------------------------------------------\n",
      "const         96.7704      1.597     60.603      0.000      93.624      99.917\n",
      "pctsgle       -0.8329      0.071    -11.784      0.000      -0.972      -0.694\n",
      "==============================================================================\n",
      "Omnibus:                        8.632   Durbin-Watson:                   1.621\n",
      "Prob(Omnibus):                  0.013   Jarque-Bera (JB):               13.624\n",
      "Skew:                          -0.190   Prob(JB):                      0.00110\n",
      "Kurtosis:                       4.133   Cond. No.                         43.8\n",
      "==============================================================================\n",
      "\n",
      "Notes:\n",
      "[1] Standard Errors assume that the covariance matrix of the errors is correctly specified.\n"
     ]
    }
   ],
   "source": [
    "import statsmodels.api as sm\n",
    "# Y: math4 \n",
    "# X: pctsgle\n",
    "model=sm.OLS(df[\"math4\"], sm.add_constant(df[\"pctsgle\"])).fit()\n",
    "print(model.summary())"
   ]
  },
  {
   "cell_type": "markdown",
   "metadata": {},
   "source": [
    "(ii) 將變數 lmedinc 和 free 加入方程式。 pctsgle 上的係數會發生什麼變化？ 解釋發生了什麼事。"
   ]
  },
  {
   "cell_type": "code",
   "execution_count": 18,
   "metadata": {},
   "outputs": [
    {
     "name": "stdout",
     "output_type": "stream",
     "text": [
      "                            OLS Regression Results                            \n",
      "==============================================================================\n",
      "Dep. Variable:                  math4   R-squared:                       0.460\n",
      "Model:                            OLS   Adj. R-squared:                  0.453\n",
      "Method:                 Least Squares   F-statistic:                     63.85\n",
      "Date:                Sun, 15 Oct 2023   Prob (F-statistic):           6.63e-30\n",
      "Time:                        00:19:05   Log-Likelihood:                -886.08\n",
      "No. Observations:                 229   AIC:                             1780.\n",
      "Df Residuals:                     225   BIC:                             1794.\n",
      "Df Model:                           3                                         \n",
      "Covariance Type:            nonrobust                                         \n",
      "==============================================================================\n",
      "                 coef    std err          t      P>|t|      [0.025      0.975]\n",
      "------------------------------------------------------------------------------\n",
      "const         51.7232     58.478      0.884      0.377     -63.512     166.958\n",
      "pctsgle       -0.1996      0.159     -1.258      0.210      -0.512       0.113\n",
      "free          -0.3964      0.070     -5.635      0.000      -0.535      -0.258\n",
      "lmedinc        3.5601      5.042      0.706      0.481      -6.375      13.495\n",
      "==============================================================================\n",
      "Omnibus:                        8.076   Durbin-Watson:                   1.533\n",
      "Prob(Omnibus):                  0.018   Jarque-Bera (JB):               13.783\n",
      "Skew:                           0.111   Prob(JB):                      0.00102\n",
      "Kurtosis:                       4.181   Cond. No.                     2.64e+03\n",
      "==============================================================================\n",
      "\n",
      "Notes:\n",
      "[1] Standard Errors assume that the covariance matrix of the errors is correctly specified.\n",
      "[2] The condition number is large, 2.64e+03. This might indicate that there are\n",
      "strong multicollinearity or other numerical problems.\n"
     ]
    }
   ],
   "source": [
    "import statsmodels.api as sm\n",
    "# Y: math4 \n",
    "# X: pctsgle, free, lmedinc\n",
    "X = df[[\"pctsgle\",\"free\",\"lmedinc\"]]\n",
    "model_2 = sm.OLS(df[\"math4\"], sm.add_constant( X )).fit()\n",
    "print(model_2.summary())"
   ]
  },
  {
   "cell_type": "markdown",
   "metadata": {},
   "source": [
    "(iii) 求 lmedinc 和 free 之間的樣本相關性。 它有你期望的標誌嗎？"
   ]
  },
  {
   "cell_type": "code",
   "execution_count": 19,
   "metadata": {},
   "outputs": [
    {
     "data": {
      "text/html": [
       "<div>\n",
       "<style scoped>\n",
       "    .dataframe tbody tr th:only-of-type {\n",
       "        vertical-align: middle;\n",
       "    }\n",
       "\n",
       "    .dataframe tbody tr th {\n",
       "        vertical-align: top;\n",
       "    }\n",
       "\n",
       "    .dataframe thead th {\n",
       "        text-align: right;\n",
       "    }\n",
       "</style>\n",
       "<table border=\"1\" class=\"dataframe\">\n",
       "  <thead>\n",
       "    <tr style=\"text-align: right;\">\n",
       "      <th></th>\n",
       "      <th>pctsgle</th>\n",
       "      <th>free</th>\n",
       "      <th>lmedinc</th>\n",
       "    </tr>\n",
       "  </thead>\n",
       "  <tbody>\n",
       "    <tr>\n",
       "      <th>pctsgle</th>\n",
       "      <td>1.000000</td>\n",
       "      <td>0.826357</td>\n",
       "      <td>-0.868636</td>\n",
       "    </tr>\n",
       "    <tr>\n",
       "      <th>free</th>\n",
       "      <td>0.826357</td>\n",
       "      <td>1.000000</td>\n",
       "      <td>-0.746970</td>\n",
       "    </tr>\n",
       "    <tr>\n",
       "      <th>lmedinc</th>\n",
       "      <td>-0.868636</td>\n",
       "      <td>-0.746970</td>\n",
       "      <td>1.000000</td>\n",
       "    </tr>\n",
       "  </tbody>\n",
       "</table>\n",
       "</div>"
      ],
      "text/plain": [
       "          pctsgle      free   lmedinc\n",
       "pctsgle  1.000000  0.826357 -0.868636\n",
       "free     0.826357  1.000000 -0.746970\n",
       "lmedinc -0.868636 -0.746970  1.000000"
      ]
     },
     "execution_count": 19,
     "metadata": {},
     "output_type": "execute_result"
    }
   ],
   "source": [
    "df[[\"pctsgle\",\"free\",\"lmedinc\"]].corr()"
   ]
  },
  {
   "cell_type": "markdown",
   "metadata": {},
   "source": [
    "**lmedinc 和 free 之間的樣本相關性為 -0.74。 這是預期的關係，因為隨著收入中位數的增加，免費午餐的資格就會減少。**"
   ]
  },
  {
   "cell_type": "markdown",
   "metadata": {},
   "source": [
    "(iv) lmedinc 和 free 之間的顯著相關性是否意味著您應該從迴歸中刪除一項，以更好地估計單親家庭對學生成績的因果影響？ 解釋。\n"
   ]
  },
  {
   "cell_type": "markdown",
   "metadata": {},
   "source": [
    "**不會，因為變數 lmedinc 和 free 之間的高度相關性並不會使確定單親家庭對學生成績的因果影響變得更加困難。**"
   ]
  },
  {
   "cell_type": "markdown",
   "metadata": {},
   "source": [
    "(v) 找出第 (ii) 部分迴歸中出現的每個解釋變數的變異數膨脹因子 (VIF)。 哪個變數的 VIF 最大？ 這些知識是否會影響您用來研究單親家庭對數學成績的因果影響的模型？"
   ]
  },
  {
   "cell_type": "code",
   "execution_count": 20,
   "metadata": {},
   "outputs": [
    {
     "name": "stdout",
     "output_type": "stream",
     "text": [
      "pctsgle VIF: 5.740980980764111\n",
      "free VIF: 3.188079145638282\n",
      "lmedinc VIF: 4.118812391001548\n"
     ]
    }
   ],
   "source": [
    "# 輔助模型: X變數輪流當Y 跑回歸模型\n",
    "# \"pctsgle\",\"free\",\"lmedinc\"\n",
    "for col in [\"pctsgle\",\"free\",\"lmedinc\"]:\n",
    "    Y = df[col]\n",
    "    X = df[[\"pctsgle\",\"free\",\"lmedinc\"]].drop(col,axis=1)\n",
    "    modelvif = sm.OLS(Y, sm.add_constant( X )).fit()\n",
    "    print(col, \"VIF:\", 1/(1-modelvif.rsquared))"
   ]
  },
  {
   "cell_type": "code",
   "execution_count": 23,
   "metadata": {},
   "outputs": [
    {
     "name": "stdout",
     "output_type": "stream",
     "text": [
      "VIF: 1.6116861312445274\n",
      "                            OLS Regression Results                            \n",
      "==============================================================================\n",
      "Dep. Variable:                  math4   R-squared:                       0.380\n",
      "Model:                            OLS   Adj. R-squared:                  0.377\n",
      "Method:                 Least Squares   F-statistic:                     138.9\n",
      "Date:                Sun, 15 Oct 2023   Prob (F-statistic):           2.54e-25\n",
      "Time:                        00:36:48   Log-Likelihood:                -901.95\n",
      "No. Observations:                 229   AIC:                             1808.\n",
      "Df Residuals:                     227   BIC:                             1815.\n",
      "Df Model:                           1                                         \n",
      "Covariance Type:            nonrobust                                         \n",
      "==============================================================================\n",
      "                 coef    std err          t      P>|t|      [0.025      0.975]\n",
      "------------------------------------------------------------------------------\n",
      "const         96.7704      1.597     60.603      0.000      93.624      99.917\n",
      "pctsgle       -0.8329      0.071    -11.784      0.000      -0.972      -0.694\n",
      "==============================================================================\n",
      "Omnibus:                        8.632   Durbin-Watson:                   1.621\n",
      "Prob(Omnibus):                  0.013   Jarque-Bera (JB):               13.624\n",
      "Skew:                          -0.190   Prob(JB):                      0.00110\n",
      "Kurtosis:                       4.133   Cond. No.                         43.8\n",
      "==============================================================================\n",
      "\n",
      "Notes:\n",
      "[1] Standard Errors assume that the covariance matrix of the errors is correctly specified.\n"
     ]
    }
   ],
   "source": [
    "# Y: math4 \n",
    "# X: pctsgle\n",
    "modelvif = sm.OLS(df[\"math4\"], sm.add_constant( df[\"pctsgle\"] )).fit()\n",
    "print(\"VIF:\", 1/(1-modelvif.rsquared))\n",
    "print(modelvif.summary())"
   ]
  },
  {
   "cell_type": "code",
   "execution_count": 24,
   "metadata": {},
   "outputs": [
    {
     "name": "stdout",
     "output_type": "stream",
     "text": [
      "VIF: 1.8035333795288102\n",
      "                            OLS Regression Results                            \n",
      "==============================================================================\n",
      "Dep. Variable:                  math4   R-squared:                       0.446\n",
      "Model:                            OLS   Adj. R-squared:                  0.443\n",
      "Method:                 Least Squares   F-statistic:                     182.4\n",
      "Date:                Sun, 15 Oct 2023   Prob (F-statistic):           6.71e-31\n",
      "Time:                        00:37:07   Log-Likelihood:                -889.08\n",
      "No. Observations:                 229   AIC:                             1782.\n",
      "Df Residuals:                     227   BIC:                             1789.\n",
      "Df Model:                           1                                         \n",
      "Covariance Type:            nonrobust                                         \n",
      "==============================================================================\n",
      "                 coef    std err          t      P>|t|      [0.025      0.975]\n",
      "------------------------------------------------------------------------------\n",
      "const         90.0459      1.044     86.211      0.000      87.988      92.104\n",
      "free          -0.5367      0.040    -13.506      0.000      -0.615      -0.458\n",
      "==============================================================================\n",
      "Omnibus:                        3.633   Durbin-Watson:                   1.528\n",
      "Prob(Omnibus):                  0.163   Jarque-Bera (JB):                4.363\n",
      "Skew:                          -0.016   Prob(JB):                        0.113\n",
      "Kurtosis:                       3.675   Cond. No.                         35.2\n",
      "==============================================================================\n",
      "\n",
      "Notes:\n",
      "[1] Standard Errors assume that the covariance matrix of the errors is correctly specified.\n"
     ]
    }
   ],
   "source": [
    "# Y: math4 \n",
    "# X: free, lmedinc\n",
    "modelvif = sm.OLS(df[\"math4\"], sm.add_constant( df[\"free\"] )).fit()\n",
    "print(\"VIF:\", 1/(1-modelvif.rsquared))\n",
    "print(modelvif.summary())"
   ]
  },
  {
   "cell_type": "markdown",
   "metadata": {},
   "source": [
    "# 原始範例"
   ]
  },
  {
   "cell_type": "code",
   "execution_count": 6,
   "metadata": {},
   "outputs": [
    {
     "data": {
      "text/html": [
       "<div>\n",
       "<style scoped>\n",
       "    .dataframe tbody tr th:only-of-type {\n",
       "        vertical-align: middle;\n",
       "    }\n",
       "\n",
       "    .dataframe tbody tr th {\n",
       "        vertical-align: top;\n",
       "    }\n",
       "\n",
       "    .dataframe thead th {\n",
       "        text-align: right;\n",
       "    }\n",
       "</style>\n",
       "<table border=\"1\" class=\"dataframe\">\n",
       "  <thead>\n",
       "    <tr style=\"text-align: right;\">\n",
       "      <th></th>\n",
       "      <th>dcode</th>\n",
       "      <th>bcode</th>\n",
       "      <th>math4</th>\n",
       "      <th>read4</th>\n",
       "      <th>enroll</th>\n",
       "      <th>exppp</th>\n",
       "      <th>free</th>\n",
       "      <th>reduced</th>\n",
       "      <th>lunch</th>\n",
       "      <th>medinc</th>\n",
       "      <th>totchild</th>\n",
       "      <th>married</th>\n",
       "      <th>single</th>\n",
       "      <th>pctsgle</th>\n",
       "      <th>zipcode</th>\n",
       "      <th>lenroll</th>\n",
       "      <th>lexppp</th>\n",
       "      <th>lmedinc</th>\n",
       "    </tr>\n",
       "  </thead>\n",
       "  <tbody>\n",
       "    <tr>\n",
       "      <th>0</th>\n",
       "      <td>63010</td>\n",
       "      <td>3030</td>\n",
       "      <td>92.8</td>\n",
       "      <td>82.5</td>\n",
       "      <td>607</td>\n",
       "      <td>6619.54</td>\n",
       "      <td>1.0</td>\n",
       "      <td>0.7</td>\n",
       "      <td>1.7</td>\n",
       "      <td>110322</td>\n",
       "      <td>4076</td>\n",
       "      <td>3542</td>\n",
       "      <td>534</td>\n",
       "      <td>13.101080</td>\n",
       "      <td>48009</td>\n",
       "      <td>6.408529</td>\n",
       "      <td>8.797781</td>\n",
       "      <td>11.61116</td>\n",
       "    </tr>\n",
       "    <tr>\n",
       "      <th>1</th>\n",
       "      <td>63010</td>\n",
       "      <td>3133</td>\n",
       "      <td>100.0</td>\n",
       "      <td>94.3</td>\n",
       "      <td>370</td>\n",
       "      <td>6619.54</td>\n",
       "      <td>0.0</td>\n",
       "      <td>0.0</td>\n",
       "      <td>0.0</td>\n",
       "      <td>110322</td>\n",
       "      <td>4076</td>\n",
       "      <td>3542</td>\n",
       "      <td>534</td>\n",
       "      <td>13.101080</td>\n",
       "      <td>48009</td>\n",
       "      <td>5.913503</td>\n",
       "      <td>8.797781</td>\n",
       "      <td>11.61116</td>\n",
       "    </tr>\n",
       "    <tr>\n",
       "      <th>2</th>\n",
       "      <td>63270</td>\n",
       "      <td>2023</td>\n",
       "      <td>72.1</td>\n",
       "      <td>46.5</td>\n",
       "      <td>220</td>\n",
       "      <td>5607.56</td>\n",
       "      <td>5.9</td>\n",
       "      <td>5.0</td>\n",
       "      <td>10.9</td>\n",
       "      <td>65119</td>\n",
       "      <td>2524</td>\n",
       "      <td>2091</td>\n",
       "      <td>433</td>\n",
       "      <td>17.155310</td>\n",
       "      <td>48017</td>\n",
       "      <td>5.393628</td>\n",
       "      <td>8.631871</td>\n",
       "      <td>11.08397</td>\n",
       "    </tr>\n",
       "    <tr>\n",
       "      <th>3</th>\n",
       "      <td>63270</td>\n",
       "      <td>2978</td>\n",
       "      <td>76.1</td>\n",
       "      <td>65.7</td>\n",
       "      <td>356</td>\n",
       "      <td>5829.53</td>\n",
       "      <td>8.1</td>\n",
       "      <td>2.8</td>\n",
       "      <td>10.9</td>\n",
       "      <td>65119</td>\n",
       "      <td>2524</td>\n",
       "      <td>2091</td>\n",
       "      <td>433</td>\n",
       "      <td>17.155310</td>\n",
       "      <td>48017</td>\n",
       "      <td>5.874931</td>\n",
       "      <td>8.670691</td>\n",
       "      <td>11.08397</td>\n",
       "    </tr>\n",
       "    <tr>\n",
       "      <th>4</th>\n",
       "      <td>63010</td>\n",
       "      <td>316</td>\n",
       "      <td>95.2</td>\n",
       "      <td>80.6</td>\n",
       "      <td>329</td>\n",
       "      <td>6619.54</td>\n",
       "      <td>0.3</td>\n",
       "      <td>0.3</td>\n",
       "      <td>0.6</td>\n",
       "      <td>109313</td>\n",
       "      <td>3486</td>\n",
       "      <td>3241</td>\n",
       "      <td>245</td>\n",
       "      <td>7.028112</td>\n",
       "      <td>48025</td>\n",
       "      <td>5.796058</td>\n",
       "      <td>8.797781</td>\n",
       "      <td>11.60197</td>\n",
       "    </tr>\n",
       "  </tbody>\n",
       "</table>\n",
       "</div>"
      ],
      "text/plain": [
       "   dcode  bcode  math4  read4  enroll    exppp  free  reduced  lunch  medinc  \\\n",
       "0  63010   3030   92.8   82.5     607  6619.54   1.0      0.7    1.7  110322   \n",
       "1  63010   3133  100.0   94.3     370  6619.54   0.0      0.0    0.0  110322   \n",
       "2  63270   2023   72.1   46.5     220  5607.56   5.9      5.0   10.9   65119   \n",
       "3  63270   2978   76.1   65.7     356  5829.53   8.1      2.8   10.9   65119   \n",
       "4  63010    316   95.2   80.6     329  6619.54   0.3      0.3    0.6  109313   \n",
       "\n",
       "   totchild  married  single    pctsgle  zipcode   lenroll    lexppp   lmedinc  \n",
       "0      4076     3542     534  13.101080    48009  6.408529  8.797781  11.61116  \n",
       "1      4076     3542     534  13.101080    48009  5.913503  8.797781  11.61116  \n",
       "2      2524     2091     433  17.155310    48017  5.393628  8.631871  11.08397  \n",
       "3      2524     2091     433  17.155310    48017  5.874931  8.670691  11.08397  \n",
       "4      3486     3241     245   7.028112    48025  5.796058  8.797781  11.60197  "
      ]
     },
     "execution_count": 6,
     "metadata": {},
     "output_type": "execute_result"
    }
   ],
   "source": [
    "#讀入meapsingle資料\n",
    "import pandas as pd\n",
    "import numpy as np\n",
    "meapsingle= pd.read_csv(\"meapsingle.csv\")\n",
    "meapsingle.head()"
   ]
  },
  {
   "cell_type": "code",
   "execution_count": 7,
   "metadata": {},
   "outputs": [],
   "source": [
    "#呼叫DataFrame內資料\n",
    "math4=pd.concat([meapsingle.math4])\n",
    "pctsgle=pd.concat([meapsingle.pctsgle])\n",
    "free=pd.concat([meapsingle.free])\n",
    "lmedinc=pd.concat([meapsingle.lmedinc])"
   ]
  },
  {
   "cell_type": "code",
   "execution_count": 9,
   "metadata": {},
   "outputs": [
    {
     "name": "stdout",
     "output_type": "stream",
     "text": [
      "                            OLS Regression Results                            \n",
      "==============================================================================\n",
      "Dep. Variable:                  math4   R-squared:                       0.380\n",
      "Model:                            OLS   Adj. R-squared:                  0.377\n",
      "Method:                 Least Squares   F-statistic:                     138.9\n",
      "Date:                Sat, 14 Oct 2023   Prob (F-statistic):           2.54e-25\n",
      "Time:                        21:24:59   Log-Likelihood:                -901.95\n",
      "No. Observations:                 229   AIC:                             1808.\n",
      "Df Residuals:                     227   BIC:                             1815.\n",
      "Df Model:                           1                                         \n",
      "Covariance Type:            nonrobust                                         \n",
      "==============================================================================\n",
      "                 coef    std err          t      P>|t|      [0.025      0.975]\n",
      "------------------------------------------------------------------------------\n",
      "const         96.7704      1.597     60.603      0.000      93.624      99.917\n",
      "pctsgle       -0.8329      0.071    -11.784      0.000      -0.972      -0.694\n",
      "==============================================================================\n",
      "Omnibus:                        8.632   Durbin-Watson:                   1.621\n",
      "Prob(Omnibus):                  0.013   Jarque-Bera (JB):               13.624\n",
      "Skew:                          -0.190   Prob(JB):                      0.00110\n",
      "Kurtosis:                       4.133   Cond. No.                         43.8\n",
      "==============================================================================\n",
      "\n",
      "Notes:\n",
      "[1] Standard Errors assume that the covariance matrix of the errors is correctly specified.\n"
     ]
    }
   ],
   "source": [
    "import statsmodels.api as sm\n",
    "# 迴歸分析 應變數是math4 自變數是pctsgle\n",
    "model=sm.OLS(math4,sm.add_constant(pctsgle)).fit()\n",
    "print(model.summary())"
   ]
  },
  {
   "cell_type": "code",
   "execution_count": 10,
   "metadata": {},
   "outputs": [
    {
     "name": "stdout",
     "output_type": "stream",
     "text": [
      "                            OLS Regression Results                            \n",
      "==============================================================================\n",
      "Dep. Variable:                  math4   R-squared:                       0.460\n",
      "Model:                            OLS   Adj. R-squared:                  0.453\n",
      "Method:                 Least Squares   F-statistic:                     63.85\n",
      "Date:                Sat, 14 Oct 2023   Prob (F-statistic):           6.63e-30\n",
      "Time:                        21:26:03   Log-Likelihood:                -886.08\n",
      "No. Observations:                 229   AIC:                             1780.\n",
      "Df Residuals:                     225   BIC:                             1794.\n",
      "Df Model:                           3                                         \n",
      "Covariance Type:            nonrobust                                         \n",
      "==============================================================================\n",
      "                 coef    std err          t      P>|t|      [0.025      0.975]\n",
      "------------------------------------------------------------------------------\n",
      "const         51.7232     58.478      0.884      0.377     -63.512     166.958\n",
      "pctsgle       -0.1996      0.159     -1.258      0.210      -0.512       0.113\n",
      "free          -0.3964      0.070     -5.635      0.000      -0.535      -0.258\n",
      "lmedinc        3.5601      5.042      0.706      0.481      -6.375      13.495\n",
      "==============================================================================\n",
      "Omnibus:                        8.076   Durbin-Watson:                   1.533\n",
      "Prob(Omnibus):                  0.018   Jarque-Bera (JB):               13.783\n",
      "Skew:                           0.111   Prob(JB):                      0.00102\n",
      "Kurtosis:                       4.181   Cond. No.                     2.64e+03\n",
      "==============================================================================\n",
      "\n",
      "Notes:\n",
      "[1] Standard Errors assume that the covariance matrix of the errors is correctly specified.\n",
      "[2] The condition number is large, 2.64e+03. This might indicate that there are\n",
      "strong multicollinearity or other numerical problems.\n"
     ]
    }
   ],
   "source": [
    "import statsmodels.api as sm\n",
    "# 迴歸分析 應變數是math4 自變數是pctsgle free lmedinc\n",
    "pairf=pd.concat([meapsingle.pctsgle,meapsingle.free,meapsingle.lmedinc],axis = 1)\n",
    "model_2=sm.OLS(math4,sm.add_constant(pairf)).fit()\n",
    "print(model_2.summary())"
   ]
  },
  {
   "cell_type": "code",
   "execution_count": 11,
   "metadata": {},
   "outputs": [
    {
     "data": {
      "text/html": [
       "<div>\n",
       "<style scoped>\n",
       "    .dataframe tbody tr th:only-of-type {\n",
       "        vertical-align: middle;\n",
       "    }\n",
       "\n",
       "    .dataframe tbody tr th {\n",
       "        vertical-align: top;\n",
       "    }\n",
       "\n",
       "    .dataframe thead th {\n",
       "        text-align: right;\n",
       "    }\n",
       "</style>\n",
       "<table border=\"1\" class=\"dataframe\">\n",
       "  <thead>\n",
       "    <tr style=\"text-align: right;\">\n",
       "      <th></th>\n",
       "      <th>free</th>\n",
       "      <th>lmedinc</th>\n",
       "    </tr>\n",
       "  </thead>\n",
       "  <tbody>\n",
       "    <tr>\n",
       "      <th>free</th>\n",
       "      <td>1.00000</td>\n",
       "      <td>-0.74697</td>\n",
       "    </tr>\n",
       "    <tr>\n",
       "      <th>lmedinc</th>\n",
       "      <td>-0.74697</td>\n",
       "      <td>1.00000</td>\n",
       "    </tr>\n",
       "  </tbody>\n",
       "</table>\n",
       "</div>"
      ],
      "text/plain": [
       "            free  lmedinc\n",
       "free     1.00000 -0.74697\n",
       "lmedinc -0.74697  1.00000"
      ]
     },
     "execution_count": 11,
     "metadata": {},
     "output_type": "execute_result"
    }
   ],
   "source": [
    "#算lmedinc與free相關係數\n",
    "data=pd.concat([meapsingle.free,meapsingle.lmedinc],axis = 1)\n",
    "data.corr()"
   ]
  },
  {
   "cell_type": "code",
   "execution_count": 12,
   "metadata": {},
   "outputs": [
    {
     "data": {
      "text/plain": [
       "1.6129032258064517"
      ]
     },
     "execution_count": 12,
     "metadata": {},
     "output_type": "execute_result"
    }
   ],
   "source": [
    "#VIF_pctsgle\n",
    "VIF_pctsgle=1/(1-0.380)\n",
    "VIF_pctsgle"
   ]
  },
  {
   "cell_type": "code",
   "execution_count": null,
   "metadata": {},
   "outputs": [],
   "source": [
    "import statsmodels.api as sm\n",
    "# 迴歸分析 應變數是math4 自變數是free\n",
    "model=sm.OLS(math4,sm.add_constant(free)).fit()\n",
    "print(model.summary())"
   ]
  },
  {
   "cell_type": "code",
   "execution_count": null,
   "metadata": {},
   "outputs": [],
   "source": [
    "#VIF_free\n",
    "VIF_free=1/(1-0.446)\n",
    "VIF_free"
   ]
  },
  {
   "cell_type": "code",
   "execution_count": null,
   "metadata": {},
   "outputs": [],
   "source": [
    "import statsmodels.api as sm\n",
    "# 迴歸分析 應變數是math4 自變數是lmedinc\n",
    "model=sm.OLS(math4,sm.add_constant(lmedinc)).fit()\n",
    "print(model.summary())"
   ]
  },
  {
   "cell_type": "code",
   "execution_count": null,
   "metadata": {},
   "outputs": [],
   "source": [
    "#VIF_lmedinc\n",
    "VIF_lmedinc=1/(1-0.321)\n",
    "VIF_lmedinc"
   ]
  },
  {
   "cell_type": "code",
   "execution_count": null,
   "metadata": {},
   "outputs": [],
   "source": []
  }
 ],
 "metadata": {
  "kernelspec": {
   "display_name": "Python 3",
   "language": "python",
   "name": "python3"
  },
  "language_info": {
   "codemirror_mode": {
    "name": "ipython",
    "version": 3
   },
   "file_extension": ".py",
   "mimetype": "text/x-python",
   "name": "python",
   "nbconvert_exporter": "python",
   "pygments_lexer": "ipython3",
   "version": "3.9.16"
  }
 },
 "nbformat": 4,
 "nbformat_minor": 4
}
