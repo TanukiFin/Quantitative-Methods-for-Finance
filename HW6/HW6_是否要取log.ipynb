{
 "cells": [
  {
   "cell_type": "markdown",
   "id": "3c4def25",
   "metadata": {},
   "source": [
    "# 作業一"
   ]
  },
  {
   "cell_type": "raw",
   "id": "845789ff",
   "metadata": {},
   "source": [
    "範例:探討房屋價格及空氣汙染\n",
    "對波士頓地區 506 個社區之樣本，估計一個模型以連結社區中房屋價格中位數(price)和各種社區特性; \n",
    "nox 為空氣中含氮氣化物數量；\n",
    "dist 為五個就業中心對該社區之加權距離(哩)；\n",
    "rooms 為社區中房屋之平均房間數；\n",
    "stratio 為社區中學校之平均學生教師比。\n",
    "利用 Hprice2 資料估出以下兩個迴歸式，並利用「變數是否取 log 相關例題」講義中教的方法，去挑出自己覺得較佳配飾度的迴歸模型。"
   ]
  },
  {
   "cell_type": "raw",
   "id": "300d16ad",
   "metadata": {},
   "source": [
    "(1) 先個別估計兩條迴歸式。\n",
    "(2) 帶入數值求算預測房價。 nox=5.55; dist=3.80; rooms=6.28; stratio=18.46\n",
    "(3) 利用轉換進行比較哪一個迴歸式比較好?"
   ]
  },
  {
   "cell_type": "code",
   "execution_count": 162,
   "id": "70adf0fb",
   "metadata": {},
   "outputs": [],
   "source": [
    "import pandas as pd\n",
    "import numpy as np\n",
    "import statsmodels.api as sm\n",
    "import math\n",
    "import matplotlib.pyplot as plt\n",
    "\n",
    "pd.set_option('display.max_rows', 6)\n",
    "pd.set_option('display.float_format', lambda x : '%.4f' % x)"
   ]
  },
  {
   "cell_type": "code",
   "execution_count": 163,
   "id": "5862a213",
   "metadata": {},
   "outputs": [
    {
     "data": {
      "text/html": [
       "<div>\n",
       "<style scoped>\n",
       "    .dataframe tbody tr th:only-of-type {\n",
       "        vertical-align: middle;\n",
       "    }\n",
       "\n",
       "    .dataframe tbody tr th {\n",
       "        vertical-align: top;\n",
       "    }\n",
       "\n",
       "    .dataframe thead th {\n",
       "        text-align: right;\n",
       "    }\n",
       "</style>\n",
       "<table border=\"1\" class=\"dataframe\">\n",
       "  <thead>\n",
       "    <tr style=\"text-align: right;\">\n",
       "      <th></th>\n",
       "      <th>price</th>\n",
       "      <th>crime</th>\n",
       "      <th>nox</th>\n",
       "      <th>rooms</th>\n",
       "      <th>dist</th>\n",
       "      <th>radial</th>\n",
       "      <th>proptax</th>\n",
       "      <th>stratio</th>\n",
       "      <th>lowstat</th>\n",
       "      <th>lprice</th>\n",
       "      <th>lnox</th>\n",
       "      <th>lproptax</th>\n",
       "    </tr>\n",
       "  </thead>\n",
       "  <tbody>\n",
       "    <tr>\n",
       "      <th>0</th>\n",
       "      <td>24000</td>\n",
       "      <td>0.0060</td>\n",
       "      <td>5.3800</td>\n",
       "      <td>6.5700</td>\n",
       "      <td>4.0900</td>\n",
       "      <td>1</td>\n",
       "      <td>29.6000</td>\n",
       "      <td>15.3000</td>\n",
       "      <td>4.9800</td>\n",
       "      <td>10.0858</td>\n",
       "      <td>1.6827</td>\n",
       "      <td>5.6904</td>\n",
       "    </tr>\n",
       "    <tr>\n",
       "      <th>1</th>\n",
       "      <td>21599</td>\n",
       "      <td>0.0270</td>\n",
       "      <td>4.6900</td>\n",
       "      <td>6.4200</td>\n",
       "      <td>4.9700</td>\n",
       "      <td>2</td>\n",
       "      <td>24.2000</td>\n",
       "      <td>17.8000</td>\n",
       "      <td>9.1400</td>\n",
       "      <td>9.9804</td>\n",
       "      <td>1.5454</td>\n",
       "      <td>5.4889</td>\n",
       "    </tr>\n",
       "    <tr>\n",
       "      <th>2</th>\n",
       "      <td>34700</td>\n",
       "      <td>0.0270</td>\n",
       "      <td>4.6900</td>\n",
       "      <td>7.1800</td>\n",
       "      <td>4.9700</td>\n",
       "      <td>2</td>\n",
       "      <td>24.2000</td>\n",
       "      <td>17.8000</td>\n",
       "      <td>4.0300</td>\n",
       "      <td>10.4545</td>\n",
       "      <td>1.5454</td>\n",
       "      <td>5.4889</td>\n",
       "    </tr>\n",
       "  </tbody>\n",
       "</table>\n",
       "</div>"
      ],
      "text/plain": [
       "   price  crime    nox  rooms   dist  radial  proptax  stratio  lowstat  \\\n",
       "0  24000 0.0060 5.3800 6.5700 4.0900       1  29.6000  15.3000   4.9800   \n",
       "1  21599 0.0270 4.6900 6.4200 4.9700       2  24.2000  17.8000   9.1400   \n",
       "2  34700 0.0270 4.6900 7.1800 4.9700       2  24.2000  17.8000   4.0300   \n",
       "\n",
       "   lprice   lnox  lproptax  \n",
       "0 10.0858 1.6827    5.6904  \n",
       "1  9.9804 1.5454    5.4889  \n",
       "2 10.4545 1.5454    5.4889  "
      ]
     },
     "execution_count": 163,
     "metadata": {},
     "output_type": "execute_result"
    }
   ],
   "source": [
    "#讀HPRICE2資料\n",
    "hprice2= pd.read_csv(\"hprice2.csv\")\n",
    "hprice2.head(3)"
   ]
  },
  {
   "cell_type": "code",
   "execution_count": 164,
   "id": "484e7bb3",
   "metadata": {},
   "outputs": [],
   "source": [
    "# y \n",
    "lprice = hprice2['lprice']\n",
    "price = hprice2['price']\n",
    "\n",
    "# x\n",
    "ldist = np.log(hprice2[['dist']])\n",
    "ldist.columns = ['ldist'] \n",
    "pairf_1 = pd.concat([hprice2[['lnox', 'rooms', 'stratio']], ldist], axis = 1)\n",
    "pairf_2 = hprice2[['nox', 'dist', 'rooms', 'stratio']]"
   ]
  },
  {
   "cell_type": "markdown",
   "id": "19c6be76",
   "metadata": {},
   "source": [
    "## (1) 先個別估計兩條迴歸式。"
   ]
  },
  {
   "cell_type": "markdown",
   "id": "efb6dea6",
   "metadata": {},
   "source": [
    "### 1. 取log\n",
    "<img src=\"https://i.imgur.com/4kA2tzv.png\" width=\"70%\">"
   ]
  },
  {
   "cell_type": "code",
   "execution_count": 165,
   "id": "9522dda7",
   "metadata": {},
   "outputs": [
    {
     "name": "stdout",
     "output_type": "stream",
     "text": [
      "                            OLS Regression Results                            \n",
      "==============================================================================\n",
      "Dep. Variable:                 lprice   R-squared:                       0.584\n",
      "Model:                            OLS   Adj. R-squared:                  0.581\n",
      "Method:                 Least Squares   F-statistic:                     175.9\n",
      "Date:                Sat, 12 Jun 2021   Prob (F-statistic):           5.53e-94\n",
      "Time:                        00:50:47   Log-Likelihood:                -43.495\n",
      "No. Observations:                 506   AIC:                             96.99\n",
      "Df Residuals:                     501   BIC:                             118.1\n",
      "Df Model:                           4                                         \n",
      "Covariance Type:            nonrobust                                         \n",
      "==============================================================================\n",
      "                 coef    std err          t      P>|t|      [0.025      0.975]\n",
      "------------------------------------------------------------------------------\n",
      "const         11.0839      0.318     34.843      0.000      10.459      11.709\n",
      "lnox          -0.9535      0.117     -8.168      0.000      -1.183      -0.724\n",
      "rooms          0.2545      0.019     13.736      0.000       0.218       0.291\n",
      "stratio       -0.0525      0.006     -8.894      0.000      -0.064      -0.041\n",
      "ldist         -0.1343      0.043     -3.117      0.002      -0.219      -0.050\n",
      "==============================================================================\n",
      "Omnibus:                       61.317   Durbin-Watson:                   0.682\n",
      "Prob(Omnibus):                  0.000   Jarque-Bera (JB):              480.143\n",
      "Skew:                           0.051   Prob(JB):                    5.47e-105\n",
      "Kurtosis:                       7.771   Cond. No.                         560.\n",
      "==============================================================================\n",
      "\n",
      "Notes:\n",
      "[1] Standard Errors assume that the covariance matrix of the errors is correctly specified.\n"
     ]
    },
    {
     "name": "stderr",
     "output_type": "stream",
     "text": [
      "C:\\Users\\sandy\\Anaconda3\\envs\\Quantative\\lib\\site-packages\\numpy\\core\\fromnumeric.py:2580: FutureWarning: Method .ptp is deprecated and will be removed in a future version. Use numpy.ptp instead.\n",
      "  return ptp(axis=axis, out=out, **kwargs)\n"
     ]
    }
   ],
   "source": [
    "#1. log(price)\n",
    "model_1 = sm.OLS(lprice, sm.add_constant(pairf_1)).fit()\n",
    "print(model_1.summary())"
   ]
  },
  {
   "cell_type": "code",
   "execution_count": 166,
   "id": "6ffc20bf",
   "metadata": {
    "scrolled": true
   },
   "outputs": [
    {
     "name": "stdout",
     "output_type": "stream",
     "text": [
      "lprice 的 SST 為 84.58222496907344\n"
     ]
    }
   ],
   "source": [
    "# SST 總平方和\n",
    "coef_log = model_1.params\n",
    "y_log = coef_log['const'] + coef_log['lnox'] * pairf_1['lnox'] + coef_log['ldist'] * pairf_1['ldist'] \\\n",
    "                          + coef_log['rooms'] * pairf_1['rooms'] + coef_log['stratio'] * pairf_1['stratio'] \n",
    "\n",
    "SST = sum((lprice - np.mean(y_log))**2)\n",
    "print('lprice 的 SST 為', SST)"
   ]
  },
  {
   "cell_type": "markdown",
   "id": "a67bc5ad",
   "metadata": {},
   "source": [
    "### 2. 沒取log"
   ]
  },
  {
   "cell_type": "markdown",
   "id": "6167b6af",
   "metadata": {},
   "source": [
    "<img src=\"https://i.imgur.com/3DL3PHb.png\" width=\"60%\">"
   ]
  },
  {
   "cell_type": "code",
   "execution_count": 167,
   "id": "f4cf8214",
   "metadata": {},
   "outputs": [
    {
     "name": "stdout",
     "output_type": "stream",
     "text": [
      "                            OLS Regression Results                            \n",
      "==============================================================================\n",
      "Dep. Variable:                  price   R-squared:                       0.620\n",
      "Model:                            OLS   Adj. R-squared:                  0.617\n",
      "Method:                 Least Squares   F-statistic:                     204.2\n",
      "Date:                Sat, 12 Jun 2021   Prob (F-statistic):          9.63e-104\n",
      "Time:                        00:50:47   Log-Likelihood:                -5091.5\n",
      "No. Observations:                 506   AIC:                         1.019e+04\n",
      "Df Residuals:                     501   BIC:                         1.021e+04\n",
      "Df Model:                           4                                         \n",
      "Covariance Type:            nonrobust                                         \n",
      "==============================================================================\n",
      "                 coef    std err          t      P>|t|      [0.025      0.975]\n",
      "------------------------------------------------------------------------------\n",
      "const       2.372e+04   5120.564      4.632      0.000    1.37e+04    3.38e+04\n",
      "nox        -3044.9130    353.679     -8.609      0.000   -3739.790   -2350.036\n",
      "dist        -965.4921    191.496     -5.042      0.000   -1341.727    -589.257\n",
      "rooms       6808.7693    401.355     16.964      0.000    6020.222    7597.316\n",
      "stratio    -1269.1675    127.366     -9.965      0.000   -1519.405   -1018.930\n",
      "==============================================================================\n",
      "Omnibus:                      253.829   Durbin-Watson:                   0.813\n",
      "Prob(Omnibus):                  0.000   Jarque-Bera (JB):             2356.323\n",
      "Skew:                           1.979   Prob(JB):                         0.00\n",
      "Kurtosis:                      12.803   Cond. No.                         420.\n",
      "==============================================================================\n",
      "\n",
      "Notes:\n",
      "[1] Standard Errors assume that the covariance matrix of the errors is correctly specified.\n"
     ]
    },
    {
     "name": "stderr",
     "output_type": "stream",
     "text": [
      "C:\\Users\\sandy\\Anaconda3\\envs\\Quantative\\lib\\site-packages\\numpy\\core\\fromnumeric.py:2580: FutureWarning: Method .ptp is deprecated and will be removed in a future version. Use numpy.ptp instead.\n",
      "  return ptp(axis=axis, out=out, **kwargs)\n"
     ]
    }
   ],
   "source": [
    "#2. price\n",
    "model_2 = sm.OLS(price, sm.add_constant(pairf_2)).fit()\n",
    "print(model_2.summary())"
   ]
  },
  {
   "cell_type": "code",
   "execution_count": 168,
   "id": "464320c9",
   "metadata": {},
   "outputs": [
    {
     "name": "stdout",
     "output_type": "stream",
     "text": [
      "price 的 SST 為 42825531146.45058\n"
     ]
    }
   ],
   "source": [
    "# SST 總平方和\n",
    "coef = model_2.params\n",
    "y_nolog = coef['const'] + coef['nox'] * pairf_2['nox'] + coef['dist'] * pairf_2['dist'] \\\n",
    "                    + coef['rooms'] * pairf_2['rooms'] + coef['stratio'] * pairf_2['stratio'] \n",
    "\n",
    "SST = sum((price - np.mean(y_nolog))**2)\n",
    "print('price 的 SST 為', SST)"
   ]
  },
  {
   "cell_type": "markdown",
   "id": "467e2f33",
   "metadata": {},
   "source": [
    "### 3. 小結\n",
    "                  R2        SST\n",
    "    -------------------------------\n",
    "    log_price    0.584     84.58\n",
    "    price        0.620  42825531146"
   ]
  },
  {
   "cell_type": "markdown",
   "id": "6a37d39b",
   "metadata": {},
   "source": [
    "## (2) 帶入數值求算預測房價。 nox=5.55; dist=3.80; rooms=6.28; stratio=18.46"
   ]
  },
  {
   "cell_type": "code",
   "execution_count": 169,
   "id": "b438f2c3",
   "metadata": {},
   "outputs": [
    {
     "data": {
      "text/plain": [
       "9.90052739938465"
      ]
     },
     "execution_count": 169,
     "metadata": {},
     "output_type": "execute_result"
    }
   ],
   "source": [
    "#找 nox=5.55; dist=3.80; rooms=6.28; stratio=18.46 時的 log_price 預測值\n",
    "y_pre = coef_log['const'] + coef_log['lnox'] * np.log(5.55) + coef_log['ldist'] * np.log(3.8) \\\n",
    "                          + coef_log['rooms'] * 6.28 + coef_log['stratio'] * 18.46\n",
    "y_pre"
   ]
  },
  {
   "cell_type": "code",
   "execution_count": 170,
   "id": "a0987114",
   "metadata": {
    "scrolled": true
   },
   "outputs": [
    {
     "data": {
      "text/plain": [
       "0     25844.9422\n",
       "1     24227.9612\n",
       "2     29398.6247\n",
       "         ...    \n",
       "503   21813.9013\n",
       "504   20516.1962\n",
       "505   16796.8761\n",
       "Length: 506, dtype: float64"
      ]
     },
     "execution_count": 170,
     "metadata": {},
     "output_type": "execute_result"
    }
   ],
   "source": [
    "# y_log = log_price的預測值\n",
    "m = np.exp(y_log)\n",
    "m"
   ]
  },
  {
   "cell_type": "code",
   "execution_count": 171,
   "id": "ef555bfb",
   "metadata": {},
   "outputs": [
    {
     "name": "stdout",
     "output_type": "stream",
     "text": [
      "                                 OLS Regression Results                                \n",
      "=======================================================================================\n",
      "Dep. Variable:                  price   R-squared (uncentered):                   0.951\n",
      "Model:                            OLS   Adj. R-squared (uncentered):              0.950\n",
      "Method:                 Least Squares   F-statistic:                              9709.\n",
      "Date:                Sat, 12 Jun 2021   Prob (F-statistic):                        0.00\n",
      "Time:                        00:50:47   Log-Likelihood:                         -5067.3\n",
      "No. Observations:                 506   AIC:                                  1.014e+04\n",
      "Df Residuals:                     505   BIC:                                  1.014e+04\n",
      "Df Model:                           1                                                  \n",
      "Covariance Type:            nonrobust                                                  \n",
      "==============================================================================\n",
      "                 coef    std err          t      P>|t|      [0.025      0.975]\n",
      "------------------------------------------------------------------------------\n",
      "x1             1.0298      0.010     98.533      0.000       1.009       1.050\n",
      "==============================================================================\n",
      "Omnibus:                      262.790   Durbin-Watson:                   0.716\n",
      "Prob(Omnibus):                  0.000   Jarque-Bera (JB):             2722.735\n",
      "Skew:                           2.028   Prob(JB):                         0.00\n",
      "Kurtosis:                      13.615   Cond. No.                         1.00\n",
      "==============================================================================\n",
      "\n",
      "Notes:\n",
      "[1] R² is computed without centering (uncentered) since the model does not contain a constant.\n",
      "[2] Standard Errors assume that the covariance matrix of the errors is correctly specified.\n"
     ]
    }
   ],
   "source": [
    "# 迴歸分析  #無截距項\n",
    "model_3 = sm.OLS(price, m).fit()\n",
    "print(model_3.summary())"
   ]
  },
  {
   "cell_type": "code",
   "execution_count": 172,
   "id": "8caa43b2",
   "metadata": {},
   "outputs": [
    {
     "data": {
      "text/plain": [
       "20535.808119134777"
      ]
     },
     "execution_count": 172,
     "metadata": {},
     "output_type": "execute_result"
    }
   ],
   "source": [
    "# M 的 coef = 1.0298\n",
    "price_1 = model_3.params[0] * math.exp(y_pre)\n",
    "price_1"
   ]
  },
  {
   "cell_type": "code",
   "execution_count": 173,
   "id": "7356e3d4",
   "metadata": {},
   "outputs": [
    {
     "data": {
      "text/plain": [
       "0.8090527455431987"
      ]
     },
     "execution_count": 173,
     "metadata": {},
     "output_type": "execute_result"
    }
   ],
   "source": [
    "#R-square為實際y值與配飾值y的相關係數平方\n",
    "r = hprice2['price'].corr(m)\n",
    "r"
   ]
  },
  {
   "cell_type": "code",
   "execution_count": 174,
   "id": "07e99ca2",
   "metadata": {},
   "outputs": [
    {
     "data": {
      "text/plain": [
       "0.6545663450709879"
      ]
     },
     "execution_count": 174,
     "metadata": {},
     "output_type": "execute_result"
    }
   ],
   "source": [
    "rr = r**2\n",
    "rr"
   ]
  },
  {
   "cell_type": "markdown",
   "id": "e8e29ce7",
   "metadata": {},
   "source": [
    "## (3) 利用轉換進行比較哪一個迴歸式比較好?"
   ]
  },
  {
   "cell_type": "markdown",
   "id": "d377143e",
   "metadata": {},
   "source": [
    "    log(price)經過轉換之後，跟price一樣的單位，r-squared會 = 0.65\n",
    "    price 的 r-squared = 0.62，故log(price)經過轉換之後的r-squared較大\n",
    "    => 取log模型比較好"
   ]
  }
 ],
 "metadata": {
  "kernelspec": {
   "display_name": "Python 3",
   "language": "python",
   "name": "python3"
  },
  "language_info": {
   "codemirror_mode": {
    "name": "ipython",
    "version": 3
   },
   "file_extension": ".py",
   "mimetype": "text/x-python",
   "name": "python",
   "nbconvert_exporter": "python",
   "pygments_lexer": "ipython3",
   "version": "3.6.13"
  }
 },
 "nbformat": 4,
 "nbformat_minor": 5
}
