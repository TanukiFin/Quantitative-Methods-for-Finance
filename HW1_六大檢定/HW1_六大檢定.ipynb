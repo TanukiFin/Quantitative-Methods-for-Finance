{
 "cells": [
  {
   "cell_type": "raw",
   "metadata": {},
   "source": [
    "!pip install --upgrade scipy\n",
    "!pip install scipy\n",
    "!python --version\n",
    "print('end')"
   ]
  },
  {
   "cell_type": "code",
   "execution_count": 2,
   "metadata": {},
   "outputs": [],
   "source": [
    "import pandas as pd\n",
    "import numpy as np\n",
    "from scipy import stats\n",
    "from scipy.stats import f \n",
    "import random\n",
    "pd.set_option('display.max_rows', 10)"
   ]
  },
  {
   "cell_type": "markdown",
   "metadata": {},
   "source": [
    "查表 http://eschool.kuas.edu.tw/tsungo/Publish/Appendix.pdf"
   ]
  },
  {
   "cell_type": "markdown",
   "metadata": {},
   "source": [
    "# 匯入資料&抽樣 (僅第一次)"
   ]
  },
  {
   "cell_type": "markdown",
   "metadata": {},
   "source": [
    "    半導體業(SEMI)與營建業(BUILD)各抽30家，抽出放回。"
   ]
  },
  {
   "cell_type": "raw",
   "metadata": {},
   "source": [
    "def ori_data(csv = \"PEPBD_SEMI.csv\"):\n",
    "    global SEMI_D\n",
    "    SEMI_D = pd.read_csv(csv, encoding = 'gb2312')\n",
    "    SEMI_D.reset_index(inplace = True)\n",
    "    SEMI_D.columns = SEMI_D.loc[0]\n",
    "    SEMI_D = SEMI_D.loc[1:]\n",
    "    SEMI_D.drop([len(SEMI_D), len(SEMI_D)-1], axis = 0, inplace = True)\n",
    "    \n",
    "#抽樣\n",
    "def sampling(n = 30, name = 'SEMI_30'):\n",
    "    global df_sample\n",
    "    df_sample = pd.DataFrame()\n",
    "    for i in range(n):\n",
    "        df = SEMI_D.loc[[random.randint(1, len(SEMI_D))]][['Security Code', 'Dividend yield (%)']]\n",
    "        df_sample = pd.concat([df_sample, df])\n",
    "    df_sample.reset_index(inplace = True)\n",
    "    df_sample.drop(['index'], axis = 1, inplace=True)\n",
    "    df_sample.to_csv(name + '.csv', index=False)\n",
    "    print('success')"
   ]
  },
  {
   "cell_type": "raw",
   "metadata": {},
   "source": [
    "#ori_data('PEPBD_SEMI.csv')\n",
    "#sampling(30, 'SEMI_30')\n",
    "#ori_data('PEPBD_BUILD.csv')\n",
    "#sampling(30, 'BUILD_30')"
   ]
  },
  {
   "cell_type": "markdown",
   "metadata": {},
   "source": [
    "# 範例1:單母體平均值檢定"
   ]
  },
  {
   "cell_type": "markdown",
   "metadata": {},
   "source": [
    "    虛無假設H0 : μ = 4\n",
    "    對立假設H1 : μ ≠ 4\n",
    "    \n",
    "    設定顯著水準 α = 0.05，檢驗半導體類股的殖利率平均值是否 = 4%?"
   ]
  },
  {
   "cell_type": "code",
   "execution_count": 4,
   "metadata": {},
   "outputs": [
    {
     "data": {
      "text/html": [
       "<div>\n",
       "<style scoped>\n",
       "    .dataframe tbody tr th:only-of-type {\n",
       "        vertical-align: middle;\n",
       "    }\n",
       "\n",
       "    .dataframe tbody tr th {\n",
       "        vertical-align: top;\n",
       "    }\n",
       "\n",
       "    .dataframe thead th {\n",
       "        text-align: right;\n",
       "    }\n",
       "</style>\n",
       "<table border=\"1\" class=\"dataframe\">\n",
       "  <thead>\n",
       "    <tr style=\"text-align: right;\">\n",
       "      <th></th>\n",
       "      <th>Security Code</th>\n",
       "      <th>Dividend yield (%)</th>\n",
       "    </tr>\n",
       "  </thead>\n",
       "  <tbody>\n",
       "    <tr>\n",
       "      <th>0</th>\n",
       "      <td>2481</td>\n",
       "      <td>1.98</td>\n",
       "    </tr>\n",
       "    <tr>\n",
       "      <th>1</th>\n",
       "      <td>3583</td>\n",
       "      <td>2.99</td>\n",
       "    </tr>\n",
       "    <tr>\n",
       "      <th>2</th>\n",
       "      <td>2481</td>\n",
       "      <td>1.98</td>\n",
       "    </tr>\n",
       "    <tr>\n",
       "      <th>3</th>\n",
       "      <td>6533</td>\n",
       "      <td>0.07</td>\n",
       "    </tr>\n",
       "    <tr>\n",
       "      <th>4</th>\n",
       "      <td>2481</td>\n",
       "      <td>1.98</td>\n",
       "    </tr>\n",
       "  </tbody>\n",
       "</table>\n",
       "</div>"
      ],
      "text/plain": [
       "   Security Code  Dividend yield (%)\n",
       "0           2481                1.98\n",
       "1           3583                2.99\n",
       "2           2481                1.98\n",
       "3           6533                0.07\n",
       "4           2481                1.98"
      ]
     },
     "execution_count": 4,
     "metadata": {},
     "output_type": "execute_result"
    }
   ],
   "source": [
    "#讀入半導體類股殖利率資料\n",
    "SEMI = pd.read_csv(\"SEMI_30.csv\")\n",
    "SEMI.head()"
   ]
  },
  {
   "cell_type": "code",
   "execution_count": 5,
   "metadata": {},
   "outputs": [
    {
     "data": {
      "text/plain": [
       "Ttest_1sampResult(statistic=-5.188360225453648, pvalue=1.5026908746166407e-05)"
      ]
     },
     "execution_count": 5,
     "metadata": {},
     "output_type": "execute_result"
    }
   ],
   "source": [
    "#單母體平均值檢定\n",
    "#檢定半導體類股的殖利率是否平均數為4\n",
    "stats.ttest_1samp(SEMI['Dividend yield (%)'], 4,alternative=\"two-sided\")"
   ]
  },
  {
   "cell_type": "markdown",
   "metadata": {},
   "source": [
    "    (1) statistic = -5.188360225453648，拒絕域為 /t/> t臨界值(自由度29) = 2.045 \n",
    "        abs(-5.188360225453648) = 5.188360225453648 > 2.045，\n",
    "        檢定統計量的值落於拒絕域中\n",
    "    (2) pvalue=1.5026908746166407e-05 < 0.05，拒絕虛無假設\n",
    "        \n",
    "    結論 : 在0.05的顯著水準下，半導體類股殖利率平均值不為4%。"
   ]
  },
  {
   "cell_type": "markdown",
   "metadata": {},
   "source": [
    "# 範例2:單母體變異數檢定 "
   ]
  },
  {
   "cell_type": "markdown",
   "metadata": {},
   "source": [
    "    虛無假設H0 : σ^2 = 1\n",
    "    對立假設H1 : σ^2 ≠ 1\n",
    "    \n",
    "    設定顯著水準α = 0.05，檢驗建材營造類股的殖利率變異數是否 = 15?"
   ]
  },
  {
   "cell_type": "code",
   "execution_count": 21,
   "metadata": {},
   "outputs": [
    {
     "data": {
      "text/html": [
       "<div>\n",
       "<style scoped>\n",
       "    .dataframe tbody tr th:only-of-type {\n",
       "        vertical-align: middle;\n",
       "    }\n",
       "\n",
       "    .dataframe tbody tr th {\n",
       "        vertical-align: top;\n",
       "    }\n",
       "\n",
       "    .dataframe thead th {\n",
       "        text-align: right;\n",
       "    }\n",
       "</style>\n",
       "<table border=\"1\" class=\"dataframe\">\n",
       "  <thead>\n",
       "    <tr style=\"text-align: right;\">\n",
       "      <th></th>\n",
       "      <th>Security Code</th>\n",
       "      <th>Dividend yield (%)</th>\n",
       "    </tr>\n",
       "  </thead>\n",
       "  <tbody>\n",
       "    <tr>\n",
       "      <th>0</th>\n",
       "      <td>6177</td>\n",
       "      <td>9.62</td>\n",
       "    </tr>\n",
       "    <tr>\n",
       "      <th>1</th>\n",
       "      <td>2530</td>\n",
       "      <td>0.71</td>\n",
       "    </tr>\n",
       "    <tr>\n",
       "      <th>2</th>\n",
       "      <td>5525</td>\n",
       "      <td>5.96</td>\n",
       "    </tr>\n",
       "    <tr>\n",
       "      <th>3</th>\n",
       "      <td>3052</td>\n",
       "      <td>3.67</td>\n",
       "    </tr>\n",
       "    <tr>\n",
       "      <th>4</th>\n",
       "      <td>1808</td>\n",
       "      <td>5.22</td>\n",
       "    </tr>\n",
       "  </tbody>\n",
       "</table>\n",
       "</div>"
      ],
      "text/plain": [
       "   Security Code  Dividend yield (%)\n",
       "0           6177                9.62\n",
       "1           2530                0.71\n",
       "2           5525                5.96\n",
       "3           3052                3.67\n",
       "4           1808                5.22"
      ]
     },
     "execution_count": 21,
     "metadata": {},
     "output_type": "execute_result"
    }
   ],
   "source": [
    "#讀入建材營造類股的殖利率資料\n",
    "BUILD = pd.read_csv(\"BUILD_30.csv\")\n",
    "BUILD.head()"
   ]
  },
  {
   "cell_type": "code",
   "execution_count": 22,
   "metadata": {},
   "outputs": [
    {
     "data": {
      "text/plain": [
       "Dividend yield (%)    14.484418\n",
       "dtype: float64"
      ]
     },
     "execution_count": 22,
     "metadata": {},
     "output_type": "execute_result"
    }
   ],
   "source": [
    "#單母體變異數檢定\n",
    "#檢定建材營造類股的殖利率變異數是否 = 15\n",
    "\n",
    "#計算樣本變異數\n",
    "var = np.var(BUILD[['Dividend yield (%)']], ddof = 1) \n",
    "\n",
    "#計算統計量\n",
    "chi_square = ((29) * var) / 15\n",
    "chi_square"
   ]
  },
  {
   "cell_type": "code",
   "execution_count": 23,
   "metadata": {},
   "outputs": [
    {
     "data": {
      "text/plain": [
       "array([0.01136435])"
      ]
     },
     "execution_count": 23,
     "metadata": {},
     "output_type": "execute_result"
    }
   ],
   "source": [
    "#計算p-vaule，自由度為29\n",
    "from scipy.stats import chi2\n",
    "\n",
    "p_value = chi2.cdf(x = chi_square, df = 29)\n",
    "p_value"
   ]
  },
  {
   "cell_type": "markdown",
   "metadata": {},
   "source": [
    "    (1) 拒絕域為 卡方統計量 > 45.7223 或 < 16.0471\n",
    "        statistic = 14.484418 < 16.0471  \n",
    "        檢定統計量的值落於拒絕域中   \n",
    "    (2) pvalue = 0.01136435 < 0.05，拒絕虛無假設\n",
    "\n",
    "    結論 : 在0.05的顯著水準下，建材營造類股 的 殖利率 變異數不為15。"
   ]
  },
  {
   "cell_type": "markdown",
   "metadata": {},
   "source": [
    "# 範例3:單母體比例檢定"
   ]
  },
  {
   "cell_type": "markdown",
   "metadata": {},
   "source": [
    "    H0 : p = p0\n",
    "    H1 : p ≠ p1\n",
    "    \n",
    "    設定顯著水準α = 0.05，調查半導體業殖利率大於 4% 的比例約 0.5 ，隨機抽取30位，\n",
    "    得知殖利率大於 4% 的比例為 0.1，調查結果是否可靠?"
   ]
  },
  {
   "cell_type": "code",
   "execution_count": 24,
   "metadata": {},
   "outputs": [
    {
     "data": {
      "text/plain": [
       "-4.3817804600413295"
      ]
     },
     "execution_count": 24,
     "metadata": {},
     "output_type": "execute_result"
    }
   ],
   "source": [
    "p = 0.5\n",
    "q = 1-p\n",
    "sigma = ( (p*q) / 30 ) ** 0.5\n",
    "z = (0.1-0.5) / sigma\n",
    "z"
   ]
  },
  {
   "cell_type": "markdown",
   "metadata": {},
   "source": [
    "    z= -4.3817804600413295 < 臨界值-1.96，落入拒絕域\n",
    "    \n",
    "    結論 :  在0.05的顯著水準下，半導體業殖利率大於 4% 的比例不為 0.5"
   ]
  },
  {
   "cell_type": "markdown",
   "metadata": {},
   "source": [
    "# 範例4:雙母體的平均值檢定"
   ]
  },
  {
   "cell_type": "markdown",
   "metadata": {},
   "source": [
    "    H0 : μ1 = μ2\n",
    "    H1 : μ1 ≠ μ2\n",
    "    \n",
    "    設定顯著水準α = 0.05，檢驗半導體與營建業的殖利率 平均數是否有差異?"
   ]
  },
  {
   "cell_type": "code",
   "execution_count": 25,
   "metadata": {},
   "outputs": [
    {
     "data": {
      "text/html": [
       "<div>\n",
       "<style scoped>\n",
       "    .dataframe tbody tr th:only-of-type {\n",
       "        vertical-align: middle;\n",
       "    }\n",
       "\n",
       "    .dataframe tbody tr th {\n",
       "        vertical-align: top;\n",
       "    }\n",
       "\n",
       "    .dataframe thead th {\n",
       "        text-align: right;\n",
       "    }\n",
       "</style>\n",
       "<table border=\"1\" class=\"dataframe\">\n",
       "  <thead>\n",
       "    <tr style=\"text-align: right;\">\n",
       "      <th></th>\n",
       "      <th>SEMI</th>\n",
       "      <th>BUILD</th>\n",
       "    </tr>\n",
       "  </thead>\n",
       "  <tbody>\n",
       "    <tr>\n",
       "      <th>0</th>\n",
       "      <td>1.98</td>\n",
       "      <td>9.62</td>\n",
       "    </tr>\n",
       "    <tr>\n",
       "      <th>1</th>\n",
       "      <td>2.99</td>\n",
       "      <td>0.71</td>\n",
       "    </tr>\n",
       "    <tr>\n",
       "      <th>2</th>\n",
       "      <td>1.98</td>\n",
       "      <td>5.96</td>\n",
       "    </tr>\n",
       "    <tr>\n",
       "      <th>3</th>\n",
       "      <td>0.07</td>\n",
       "      <td>3.67</td>\n",
       "    </tr>\n",
       "    <tr>\n",
       "      <th>4</th>\n",
       "      <td>1.98</td>\n",
       "      <td>5.22</td>\n",
       "    </tr>\n",
       "    <tr>\n",
       "      <th>...</th>\n",
       "      <td>...</td>\n",
       "      <td>...</td>\n",
       "    </tr>\n",
       "    <tr>\n",
       "      <th>25</th>\n",
       "      <td>4.56</td>\n",
       "      <td>5.37</td>\n",
       "    </tr>\n",
       "    <tr>\n",
       "      <th>26</th>\n",
       "      <td>2.94</td>\n",
       "      <td>3.82</td>\n",
       "    </tr>\n",
       "    <tr>\n",
       "      <th>27</th>\n",
       "      <td>1.91</td>\n",
       "      <td>2.78</td>\n",
       "    </tr>\n",
       "    <tr>\n",
       "      <th>28</th>\n",
       "      <td>0.35</td>\n",
       "      <td>3.67</td>\n",
       "    </tr>\n",
       "    <tr>\n",
       "      <th>29</th>\n",
       "      <td>9.43</td>\n",
       "      <td>4.57</td>\n",
       "    </tr>\n",
       "  </tbody>\n",
       "</table>\n",
       "<p>30 rows × 2 columns</p>\n",
       "</div>"
      ],
      "text/plain": [
       "    SEMI  BUILD\n",
       "0   1.98   9.62\n",
       "1   2.99   0.71\n",
       "2   1.98   5.96\n",
       "3   0.07   3.67\n",
       "4   1.98   5.22\n",
       "..   ...    ...\n",
       "25  4.56   5.37\n",
       "26  2.94   3.82\n",
       "27  1.91   2.78\n",
       "28  0.35   3.67\n",
       "29  9.43   4.57\n",
       "\n",
       "[30 rows x 2 columns]"
      ]
     },
     "execution_count": 25,
     "metadata": {},
     "output_type": "execute_result"
    }
   ],
   "source": [
    "#合併半導體與營建業 殖利率資料\n",
    "dividends = pd.concat([SEMI, BUILD], axis = 1)\n",
    "dividends.drop('Security Code', axis = 1, inplace = True)\n",
    "dividends.columns = ['SEMI', 'BUILD']\n",
    "dividends"
   ]
  },
  {
   "cell_type": "code",
   "execution_count": 167,
   "metadata": {},
   "outputs": [],
   "source": [
    "# 個別指派變數\n",
    "SEMI_D_ratio=[dividends.SEMI]\n",
    "BUILD_D_ratio=[dividends.BUILD]"
   ]
  },
  {
   "cell_type": "code",
   "execution_count": 26,
   "metadata": {},
   "outputs": [
    {
     "data": {
      "text/plain": [
       "Ttest_indResult(statistic=array([-3.46563867]), pvalue=array([0.00100212]))"
      ]
     },
     "execution_count": 26,
     "metadata": {},
     "output_type": "execute_result"
    }
   ],
   "source": [
    "stats.ttest_ind(SEMI[['Dividend yield (%)']], BUILD[['Dividend yield (%)']], equal_var = True, alternative='two-sided')"
   ]
  },
  {
   "cell_type": "markdown",
   "metadata": {},
   "source": [
    "    (1) statistic = -3.46563867 < -1.96，檢定統計量的值落入拒絕域中\n",
    "    (2) pvalue = 0.00100212 < 0.05，在0.05顯著水準下，拒絕虛無假設\n",
    "    \n",
    "    結論 : 在0.05的顯著水準下，半導體與營建業的殖利率 平均數不同。"
   ]
  },
  {
   "cell_type": "markdown",
   "metadata": {},
   "source": [
    "# 範例5:雙母體的變異數檢定"
   ]
  },
  {
   "cell_type": "markdown",
   "metadata": {},
   "source": [
    "    H0 : μ1^2 = μ2^2\n",
    "    H1 : μ1^2 ≠ μ2^2\n",
    "    \n",
    "    左尾檢定\n",
    "    設定顯著水準α = 0.05，檢驗半導體業與營建業整體殖利率的 變異數是否相等?"
   ]
  },
  {
   "cell_type": "code",
   "execution_count": 27,
   "metadata": {},
   "outputs": [
    {
     "data": {
      "text/plain": [
       "0.5373999648406917"
      ]
     },
     "execution_count": 27,
     "metadata": {},
     "output_type": "execute_result"
    }
   ],
   "source": [
    "from scipy.stats import f\n",
    "\n",
    "n1 = 30; n2 = 30\n",
    "alpha = 0.05\n",
    "var_SEMI = np.var(SEMI[['Dividend yield (%)']], ddof = 1) \n",
    "var_BUILD = np.var(BUILD[['Dividend yield (%)']], ddof = 1)\n",
    "fc = f.ppf(alpha, n1-1, n2-1)\n",
    "fc #臨界值"
   ]
  },
  {
   "cell_type": "code",
   "execution_count": 28,
   "metadata": {},
   "outputs": [
    {
     "data": {
      "text/plain": [
       "Dividend yield (%)    0.498886\n",
       "dtype: float64"
      ]
     },
     "execution_count": 28,
     "metadata": {},
     "output_type": "execute_result"
    }
   ],
   "source": [
    "f0 = var_SEMI / var_BUILD\n",
    "f0 #檢定統計量   \n",
    "#統計量 < 臨界值，落入拒絕域"
   ]
  },
  {
   "cell_type": "code",
   "execution_count": 30,
   "metadata": {},
   "outputs": [
    {
     "data": {
      "text/plain": [
       "array([0.03301329])"
      ]
     },
     "execution_count": 30,
     "metadata": {},
     "output_type": "execute_result"
    }
   ],
   "source": [
    "#p-value\n",
    "pvalue = f.cdf(f0, n1-1, n2-1)\n",
    "pvalue"
   ]
  },
  {
   "cell_type": "markdown",
   "metadata": {},
   "source": [
    "    pvalue = 0.03301329 < 0.05，落入拒絕域\n",
    "    結論 : 半導體業與營建業整體殖利率 變異數不同"
   ]
  },
  {
   "cell_type": "markdown",
   "metadata": {},
   "source": [
    "# 範例6:雙母體比例檢定"
   ]
  },
  {
   "cell_type": "markdown",
   "metadata": {},
   "source": [
    "    H0 : p1 - p2 <= 0\n",
    "    H1 : p1 - p2 >  0\n",
    "    \n",
    "    右尾檢定\n",
    "    調查建議投資半導體還是營建業\n",
    "    隨機抽出半導體 30 家，殖利率大於 4% ，有 3 家\n",
    "    再隨機抽出營建業 30 家，殖利率大於 4% ，有 14 家\n",
    "    檢定半導體中殖利率大於 4% 的比例是否大於營建業"
   ]
  },
  {
   "cell_type": "code",
   "execution_count": 194,
   "metadata": {},
   "outputs": [
    {
     "data": {
      "text/plain": [
       "1.6448536269514722"
      ]
     },
     "execution_count": 194,
     "metadata": {},
     "output_type": "execute_result"
    }
   ],
   "source": [
    "from scipy.stats import norm\n",
    "\n",
    "p0 = 0\n",
    "n1 = len(BUILD); n2 = len(SEMI)\n",
    "pbar1 = 3 /  len(SEMI) #半導體\n",
    "pbar2 = 14 / len(BUILD)  #營建業\n",
    "pbar = (n1 * pbar1 + n2 * pbar2 ) / ( n1 + n2 )\n",
    "se = np.sqrt( pbar * ( 1 - pbar ) * ( 1 / n1 + 1 / n2 ) )\n",
    "pbar0 = pbar1 - pbar2\n",
    "alpha = 0.05\n",
    "zc = norm.ppf(1-alpha, 0,1)\n",
    "zc #臨界值"
   ]
  },
  {
   "cell_type": "code",
   "execution_count": 195,
   "metadata": {},
   "outputs": [
    {
     "data": {
      "text/plain": [
       "-3.1514442002351277"
      ]
     },
     "execution_count": 195,
     "metadata": {},
     "output_type": "execute_result"
    }
   ],
   "source": [
    "#pbar c = p0 + zc * se\n",
    "z0 = ( pbar0 - p0 ) / se\n",
    "z0"
   ]
  },
  {
   "cell_type": "code",
   "execution_count": 197,
   "metadata": {},
   "outputs": [
    {
     "data": {
      "text/plain": [
       "0.9991876739891977"
      ]
     },
     "execution_count": 197,
     "metadata": {},
     "output_type": "execute_result"
    }
   ],
   "source": [
    "#p-value\n",
    "1-norm.cdf(pbar0,p0,se)\n",
    "1-norm.cdf(z0,0,1)"
   ]
  },
  {
   "cell_type": "markdown",
   "metadata": {},
   "source": [
    "    pvalue = 0.9991876739891977 > 0.05，不落入拒絕域\n",
    "    結論 : 半導體中殖利率大於 4% 的比例 不高於營建業"
   ]
  }
 ],
 "metadata": {
  "kernelspec": {
   "display_name": "Python 3",
   "language": "python",
   "name": "python3"
  },
  "language_info": {
   "codemirror_mode": {
    "name": "ipython",
    "version": 3
   },
   "file_extension": ".py",
   "mimetype": "text/x-python",
   "name": "python",
   "nbconvert_exporter": "python",
   "pygments_lexer": "ipython3",
   "version": "3.7.3"
  }
 },
 "nbformat": 4,
 "nbformat_minor": 4
}
